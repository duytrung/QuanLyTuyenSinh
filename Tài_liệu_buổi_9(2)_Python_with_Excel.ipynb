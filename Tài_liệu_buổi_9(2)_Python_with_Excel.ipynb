{
  "nbformat": 4,
  "nbformat_minor": 0,
  "metadata": {
    "colab": {
      "provenance": [],
      "include_colab_link": true
    },
    "kernelspec": {
      "name": "python3",
      "display_name": "Python 3"
    },
    "language_info": {
      "name": "python"
    }
  },
  "cells": [
    {
      "cell_type": "markdown",
      "metadata": {
        "id": "view-in-github",
        "colab_type": "text"
      },
      "source": [
        "<a href=\"https://colab.research.google.com/github/duytrung/QuanLyTuyenSinh/blob/main/T%C3%A0i_li%E1%BB%87u_bu%E1%BB%95i_9(2)_Python_with_Excel.ipynb\" target=\"_parent\"><img src=\"https://colab.research.google.com/assets/colab-badge.svg\" alt=\"Open In Colab\"/></a>"
      ]
    },
    {
      "cell_type": "markdown",
      "source": [
        "# **📊 Excel File Uploader & Editor with Streamlit - Giải Thích Chi Tiết**"
      ],
      "metadata": {
        "id": "zbJOQkOcS2-N"
      }
    },
    {
      "cell_type": "markdown",
      "source": [
        "**🖥️ Source code:** https://github.com/riodev1310/python_automation_scripts/blob/main/excel_connection.py"
      ],
      "metadata": {
        "id": "EUehhaOsWD7Z"
      }
    },
    {
      "cell_type": "markdown",
      "source": [
        "## **🚀 Giới Thiệu**"
      ],
      "metadata": {
        "id": "_yRsnSVKS5E6"
      }
    },
    {
      "cell_type": "markdown",
      "source": [
        "Ứng dụng này sử dụng Streamlit để tải lên, chỉnh sửa và quản lý dữ liệu trong tệp Excel. Người dùng có thể thực hiện các thao tác như tìm kiếm, cập nhật, xóa và thêm dữ liệu mới vào tệp Excel một cách trực quan."
      ],
      "metadata": {
        "id": "AZgAPE5CS9pI"
      }
    },
    {
      "cell_type": "markdown",
      "source": [
        "## **1. 🔧 Cấu Hình Ứng Dụng**"
      ],
      "metadata": {
        "id": "PRvGZG_9S_42"
      }
    },
    {
      "cell_type": "code",
      "execution_count": null,
      "metadata": {
        "id": "c24-9fxNSzzr"
      },
      "outputs": [],
      "source": [
        "import streamlit as st\n",
        "import pandas as pd"
      ]
    },
    {
      "cell_type": "markdown",
      "source": [
        "+ `streamlit`: Tạo giao diện người dùng.\n",
        "\n",
        "+ `pandas`: Xử lý dữ liệu dạng bảng."
      ],
      "metadata": {
        "id": "llBCGP47Tqi9"
      }
    },
    {
      "cell_type": "markdown",
      "source": [
        "## **2. 📂 Các Hàm Xử Lý Dữ Liệu Excel**"
      ],
      "metadata": {
        "id": "VBpn_059Tx9W"
      }
    },
    {
      "cell_type": "markdown",
      "source": [
        "### **2.1. 💾 Hàm Lưu Dữ Liệu Vào Excel**"
      ],
      "metadata": {
        "id": "2i93iV-8T1Mx"
      }
    },
    {
      "cell_type": "code",
      "source": [
        "def save_to_excel(file_path, df):\n",
        "    with pd.ExcelWriter(file_path, engine='openpyxl', mode='w') as writer:\n",
        "        df.to_excel(writer, index=False, sheet_name=\"Sheet1\") # Các bạn sửa theo tên Sheet của các bạn nhé"
      ],
      "metadata": {
        "id": "3jEeg-nLTu5q"
      },
      "execution_count": null,
      "outputs": []
    },
    {
      "cell_type": "markdown",
      "source": [
        "📝 Ghi DataFrame vào tệp Excel.\n",
        "\n",
        "🔄 Ghi đè dữ liệu vào tệp đã có."
      ],
      "metadata": {
        "id": "uPApYXNMUIlG"
      }
    },
    {
      "cell_type": "markdown",
      "source": [
        "### **2.2. 🔎 Hàm Tìm Kiếm Dữ Liệu**"
      ],
      "metadata": {
        "id": "14Y-BexdULQT"
      }
    },
    {
      "cell_type": "code",
      "source": [
        "def search_data(df, column, query):\n",
        "    return df[df[column].astype(str).str.contains(query, case=False, na=False)]"
      ],
      "metadata": {
        "id": "pXwam7tUUJO8"
      },
      "execution_count": null,
      "outputs": []
    },
    {
      "cell_type": "markdown",
      "source": [
        "🔍 Tìm kiếm dữ liệu theo cột chỉ định.\n",
        "\n",
        "✅ Hỗ trợ tìm kiếm không phân biệt chữ hoa/thường.\n",
        "\n",
        "🚫 Bỏ qua giá trị NaN."
      ],
      "metadata": {
        "id": "0vrZmFXaUPSP"
      }
    },
    {
      "cell_type": "markdown",
      "source": [
        "### **2.3. 🗑️ Hàm Xóa Dữ Liệu**"
      ],
      "metadata": {
        "id": "62VDdcUDUVZB"
      }
    },
    {
      "cell_type": "code",
      "source": [
        "def delete_searched_data(df, column, query, file_path):\n",
        "    df = df[~df[column].astype(str).str.contains(query, case=False, na=False)]\n",
        "    save_to_excel(file_path, df)\n",
        "    return df"
      ],
      "metadata": {
        "id": "GN3k9m8AUWWb"
      },
      "execution_count": null,
      "outputs": []
    },
    {
      "cell_type": "markdown",
      "source": [
        "❌ Xóa tất cả các hàng có giá trị trùng khớp với query.\n",
        "\n",
        "💾 Cập nhật dữ liệu mới vào tệp Excel."
      ],
      "metadata": {
        "id": "vucUr4_KUYsN"
      }
    },
    {
      "cell_type": "markdown",
      "source": [
        "### **2.4. ✏️ Hàm Cập Nhật Dữ Liệu**"
      ],
      "metadata": {
        "id": "BlHMsLusUeSZ"
      }
    },
    {
      "cell_type": "code",
      "source": [
        "def update_data_by_column(df, search_column, search_value, update_column, new_value, file_path):\n",
        "    mask = df[search_column].astype(str).str.contains(str(search_value), na=False)\n",
        "    if not mask.any():\n",
        "        st.warning(\"No matching records found to update.\")\n",
        "        return False, df\n",
        "    df.loc[mask, update_column] = convert_value(new_value, df[update_column].dtype)\n",
        "    save_to_excel(file_path, df)\n",
        "    return True, df"
      ],
      "metadata": {
        "id": "ZHFXAJzpUa7t"
      },
      "execution_count": null,
      "outputs": []
    },
    {
      "cell_type": "markdown",
      "source": [
        "🔍 Tìm các hàng khớp với giá trị tìm kiếm.\n",
        "\n",
        "📝 Cập nhật cột được chọn với giá trị mới.\n",
        "\n",
        "✅ Lưu dữ liệu mới vào tệp Excel."
      ],
      "metadata": {
        "id": "nL2vc_xrUjmw"
      }
    },
    {
      "cell_type": "markdown",
      "source": [
        "## **3. 🖥️ Xây Dựng Giao Diện Streamlit**"
      ],
      "metadata": {
        "id": "ULnEtLQ-Uo1u"
      }
    },
    {
      "cell_type": "code",
      "source": [
        "st.title(\"📊 Excel File Uploader & Editor\")"
      ],
      "metadata": {
        "id": "2Od_P8t_UmCB"
      },
      "execution_count": null,
      "outputs": []
    },
    {
      "cell_type": "markdown",
      "source": [
        "🎯 Hiển thị tiêu đề ứng dụng."
      ],
      "metadata": {
        "id": "zXU6LyyHUsRU"
      }
    },
    {
      "cell_type": "markdown",
      "source": [
        "### **3.1. 📂 Tải Lên Tệp Excel**"
      ],
      "metadata": {
        "id": "JnjKdbL-Uwcj"
      }
    },
    {
      "cell_type": "code",
      "source": [
        "uploaded_file = st.file_uploader(\"Upload your Excel file\", type=[\"xlsx\"])"
      ],
      "metadata": {
        "id": "LIWvRs2cUuKA"
      },
      "execution_count": null,
      "outputs": []
    },
    {
      "cell_type": "markdown",
      "source": [
        "📤 Cho phép người dùng tải lên tệp Excel `.xlsx`."
      ],
      "metadata": {
        "id": "pSJGDzonU1EJ"
      }
    },
    {
      "cell_type": "markdown",
      "source": [
        "### **3.2. 📃 Hiển Thị Dữ Liệu**"
      ],
      "metadata": {
        "id": "TonA6migU5_a"
      }
    },
    {
      "cell_type": "code",
      "source": [
        "if uploaded_file:\n",
        "    file_path = \"/Users/vietannguyen/datasets/\" + uploaded_file.name\n",
        "    df = pd.read_excel(file_path)\n",
        "    st.write(\"### Current Data in Excel:\")\n",
        "    st.dataframe(df)"
      ],
      "metadata": {
        "id": "PXCxU2NKU35I"
      },
      "execution_count": null,
      "outputs": []
    },
    {
      "cell_type": "markdown",
      "source": [
        "📂 Đọc tệp Excel và hiển thị dữ liệu dưới dạng bảng."
      ],
      "metadata": {
        "id": "DeB2hRGGU__D"
      }
    },
    {
      "cell_type": "markdown",
      "source": [
        "### **3.3. ➕ Thêm Dữ Liệu Mới**"
      ],
      "metadata": {
        "id": "Mp9vPEsHVDCd"
      }
    },
    {
      "cell_type": "code",
      "source": [
        "with st.form(key=\"new_data_form\"):\n",
        "    st.write(\"### Enter new data:\")\n",
        "    new_data = {}\n",
        "    for col in df.columns:\n",
        "        new_data[col] = st.text_input(f\"Enter value for {col}\")\n",
        "    submit_button = st.form_submit_button(label=\"Save Data\")"
      ],
      "metadata": {
        "id": "gTLAAZNkVAa0"
      },
      "execution_count": null,
      "outputs": []
    },
    {
      "cell_type": "markdown",
      "source": [
        "📝 Tạo form nhập dữ liệu mới.\n",
        "\n",
        "✅ Ghi dữ liệu mới vào file Excel khi nhấn Save Data."
      ],
      "metadata": {
        "id": "i02U12TkVGKj"
      }
    },
    {
      "cell_type": "markdown",
      "source": [
        "### **3.4. 🔎 Tìm Kiếm Dữ Liệu**"
      ],
      "metadata": {
        "id": "ts6llyeDVK4V"
      }
    },
    {
      "cell_type": "code",
      "source": [
        "with st.form(key=\"search_data_form\"):\n",
        "    search_column = st.selectbox(\"Select column to search in\", df.columns)\n",
        "    search_query = st.text_input(\"Enter search query\")\n",
        "    search = st.form_submit_button(label=\"Search\")"
      ],
      "metadata": {
        "id": "dN7ibqUZVIDP"
      },
      "execution_count": null,
      "outputs": []
    },
    {
      "cell_type": "markdown",
      "source": [
        "📌 Chọn cột và nhập từ khóa tìm kiếm.\n",
        "\n",
        "🏷️ Hiển thị kết quả tìm kiếm bằng `st.dataframe()`."
      ],
      "metadata": {
        "id": "HCQ4yYi-VOnB"
      }
    },
    {
      "cell_type": "markdown",
      "source": [
        "### **3.5. 🗑️ Xóa Dữ Liệu**"
      ],
      "metadata": {
        "id": "zGFFrcllVisa"
      }
    },
    {
      "cell_type": "code",
      "source": [
        "if st.button(\"Delete these Data\") and search_column and search_query:\n",
        "    df = delete_searched_data(df, search_column, search_query, file_path)\n",
        "    st.success(\"Selected data deleted successfully!\")"
      ],
      "metadata": {
        "id": "MEaEbOCGVQMl"
      },
      "execution_count": null,
      "outputs": []
    },
    {
      "cell_type": "markdown",
      "source": [
        "❌ Xóa dữ liệu trùng với kết quả tìm kiếm."
      ],
      "metadata": {
        "id": "RqYp3fI0Vnth"
      }
    },
    {
      "cell_type": "markdown",
      "source": [
        "### **3.6. ✏️ Cập Nhật Dữ Liệu**"
      ],
      "metadata": {
        "id": "i8FB_Mg5Vr4L"
      }
    },
    {
      "cell_type": "code",
      "source": [
        "with st.form(key=\"update_data_form\"):\n",
        "    update_column = st.selectbox(\"Select column to update\", df.columns)\n",
        "    update_value = st.text_input(\"Enter new value\")\n",
        "    update = st.form_submit_button(label=\"Update\")"
      ],
      "metadata": {
        "id": "JkNocQeLVqAU"
      },
      "execution_count": null,
      "outputs": []
    },
    {
      "cell_type": "markdown",
      "source": [
        "🏷️ Chọn cột và nhập giá trị mới để cập nhật.\n",
        "\n",
        "✅ Cập nhật dữ liệu vào Excel khi nhấn Update."
      ],
      "metadata": {
        "id": "ZYqOJgvDVzdU"
      }
    },
    {
      "cell_type": "markdown",
      "source": [
        "## **📌 Tổng Kết**"
      ],
      "metadata": {
        "id": "-7nwXLROV4HL"
      }
    },
    {
      "cell_type": "markdown",
      "source": [
        "📌 Ứng dụng này giúp thao tác với tệp Excel dễ dàng qua Streamlit. Người dùng có thể tìm kiếm, chỉnh sửa, xóa và cập nhật dữ liệu một cách trực quan. Nó có thể mở rộng để xử lý nhiều tập dữ liệu phức tạp hơn. 🚀"
      ],
      "metadata": {
        "id": "oop1Su89V16H"
      }
    }
  ]
}