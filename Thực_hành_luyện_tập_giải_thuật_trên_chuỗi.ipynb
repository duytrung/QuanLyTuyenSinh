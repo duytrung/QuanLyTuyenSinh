{
  "nbformat": 4,
  "nbformat_minor": 0,
  "metadata": {
    "colab": {
      "provenance": [],
      "include_colab_link": true
    },
    "kernelspec": {
      "name": "python3",
      "display_name": "Python 3"
    },
    "language_info": {
      "name": "python"
    }
  },
  "cells": [
    {
      "cell_type": "markdown",
      "metadata": {
        "id": "view-in-github",
        "colab_type": "text"
      },
      "source": [
        "<a href=\"https://colab.research.google.com/github/duytrung/QuanLyTuyenSinh/blob/main/Th%E1%BB%B1c_h%C3%A0nh_luy%E1%BB%87n_t%E1%BA%ADp_gi%E1%BA%A3i_thu%E1%BA%ADt_tr%C3%AAn_chu%E1%BB%97i.ipynb\" target=\"_parent\"><img src=\"https://colab.research.google.com/assets/colab-badge.svg\" alt=\"Open In Colab\"/></a>"
      ]
    },
    {
      "cell_type": "markdown",
      "source": [
        "# **Bài tập trên lớp**"
      ],
      "metadata": {
        "id": "b--Z2nLSpKeB"
      }
    },
    {
      "cell_type": "markdown",
      "source": [
        "### **1) Tạo list Full name**"
      ],
      "metadata": {
        "id": "BDKpkFyApNl-"
      }
    },
    {
      "cell_type": "markdown",
      "source": [
        "Viết chương trình Python để kết hợp hai danh sách first_name và last_name (được cho trước) thành một danh sách chứa các họ tên đầy đủ. Sử dụng hàm để ghép tên và họ thành chuỗi.\n",
        "\n",
        "**Yêu cầu:**\n",
        "- Viết hàm để ghép tên (**first_name**) và họ (**last_name**).\n",
        "- Tạo danh sách chứa các họ tên đầy đủ từ hai danh sách ban đầu.\n",
        "- In danh sách kết quả ra màn hình."
      ],
      "metadata": {
        "id": "ZlWcwm2UqiqD"
      }
    },
    {
      "cell_type": "code",
      "source": [
        "first_name = ['John', 'Jane', 'Michael', 'Emily', 'David', 'Sarah', 'Christopher', 'Amanda', 'Matthew', 'Emma', 'Ryan', 'Ashley',\n",
        "              'Joshua', 'Megan', 'Jason', 'Kayla', 'Brandon', 'Laura', 'Justin', 'Stephanie', 'Daniel', 'Amy', 'Nathan', 'Hannah',\n",
        "              'Andrew', 'Katie', 'Robert', 'Lauren', 'Jonathan', 'Olivia', 'Zachary', 'Brittany', 'James', 'Victoria', 'William',\n",
        "              'Amanda', 'Steven', 'Elizabeth', 'Matthew', 'Jennifer', 'Nicholas', 'Alexis', 'Samantha', 'Jonathan', 'Lauren', 'Michael',\n",
        "              'Amanda', 'Christopher', 'Emily', 'Justin', 'Sarah', 'Joshua', 'Stephanie', 'Nathan', 'Emily', 'Kayla', 'Brandon', 'Jessica',\n",
        "              'Zachary', 'Michelle', 'Andrew', 'Katherine', 'James', 'Alexander', 'Chelsea', 'Matthew', 'Amanda', 'John', 'Olivia', 'Daniel',\n",
        "              'Alyssa', 'Ryan', 'Samantha', 'Michael', 'Natalie', 'Christopher', 'Amanda', 'Justin', 'Megan', 'Brandon', 'Ashley', 'David',\n",
        "              'Lisa', 'Kyle', 'Stephanie', 'Joseph', 'Kristen', 'Michael', 'Emily', 'Nicholas', 'Samantha', 'Amanda', 'Robert', 'Alexis',\n",
        "              'Natalie', 'Brandon', 'Lauren', 'Michael', 'Samantha', 'Joshua']\n",
        "\n",
        "last_name = ['Smith', 'Doe', 'Johnson', 'Brown', 'Davis', 'Wilson', 'Martinez', 'Taylor', 'Anderson', 'Rodriguez', 'Hernandez', 'Garcia',\n",
        "             'Martinez', 'Wright', 'Rodriguez', 'Clark', 'Thomas', 'Lee', 'Scott', 'Hill', 'Gonzalez', 'Perez', 'Young', 'Martinez', 'Nelson',\n",
        "             'King', 'Allen', 'Turner', 'Walker', 'Hill', 'Baker', 'Carter', 'Mitchell', 'Perez', 'Hernandez', 'Young', 'King', 'Cook', 'Gonzalez',\n",
        "             'Martinez', 'Carter', 'Young', 'Hernandez', 'Scott', 'Phillips', 'Baker', 'Turner', 'Walker', 'Mitchell', 'Rodriguez', 'Perez',\n",
        "             'Rodriguez', 'Lee', 'Turner', 'Garcia', 'Brown', 'Allen', 'Lopez', 'Perez', 'Thomas', 'Jackson', 'White', 'Hernandez', 'Scott',\n",
        "             'Davis', 'Perez', 'Thomas', 'Williams', 'Turner', 'Brown', 'King', 'Rodriguez', 'Allen', 'Martinez', 'Gonzalez', 'Lee', 'Hernandez',\n",
        "             'Lopez', 'Turner', 'White', 'Miller', 'Brown', 'Perez', 'Turner', 'Lewis', 'Hall', 'Thomas', 'Brown', 'Hernandez', 'Hernandez',\n",
        "             'Taylor', 'Rodriguez', 'Young', 'Scott', 'Hernandez', 'Perez', 'White', 'Clark', 'Lee', 'Baker']"
      ],
      "metadata": {
        "id": "LUZotMOLrSU4"
      },
      "execution_count": null,
      "outputs": []
    },
    {
      "cell_type": "markdown",
      "source": [
        "### **Dùng list sau cho các bài tập 2, 3, 4, 5**"
      ],
      "metadata": {
        "id": "EoGgDrMjtHF8"
      }
    },
    {
      "cell_type": "code",
      "source": [
        "usernames = ['John Smith', 'Jane Doe', 'Michael Johnson', 'Emily Brown', 'David Davis', 'Sarah Wilson', 'Christopher Martinez',\n",
        "             'Amanda Taylor', 'Matthew Anderson', 'Emma Rodriguez', 'Ryan Hernandez', 'Ashley Garcia', 'Joshua Martinez',\n",
        "             'Megan Wright', 'Jason Rodriguez', 'Kayla Clark', 'Brandon Thomas', 'Laura Lee', 'Justin Scott', 'Stephanie Hill',\n",
        "             'Daniel Gonzalez', 'Amy Perez', 'Nathan Young', 'Hannah Martinez', 'Andrew Nelson', 'Katie King', 'Robert Allen',\n",
        "             'Lauren Turner', 'Jonathan Walker', 'Olivia Hill', 'Zachary Baker', 'Brittany Carter', 'James Mitchell', 'Victoria Perez',\n",
        "             'William Hernandez', 'Amanda Young', 'Steven King', 'Elizabeth Cook', 'Matthew Gonzalez', 'Jennifer Martinez',\n",
        "             'Nicholas Carter', 'Alexis Young', 'Samantha Hernandez', 'Jonathan Scott', 'Lauren Phillips', 'Michael Baker',\n",
        "             'Amanda Turner', 'Christopher Walker', 'Emily Mitchell', 'Justin Rodriguez', 'Sarah Perez', 'Joshua Rodriguez',\n",
        "             'Stephanie Lee', 'Nathan Turner', 'Emily Garcia', 'Kayla Brown', 'Brandon Allen', 'Jessica Lopez', 'Zachary Perez',\n",
        "             'Michelle Thomas', 'Andrew Jackson', 'Katherine White', 'James Hernandez', 'Alexander Scott', 'Chelsea Davis',\n",
        "             'Matthew Perez', 'Amanda Thomas', 'John Williams', 'Olivia Turner', 'Daniel Brown', 'Alyssa King', 'Ryan Rodriguez',\n",
        "             'Samantha Allen', 'Michael Martinez', 'Natalie Gonzalez', 'Christopher Lee', 'Amanda Hernandez', 'Justin Lopez',\n",
        "             'Megan Turner', 'Brandon White', 'Ashley Miller', 'David Brown', 'Lisa Perez', 'Kyle Turner', 'Stephanie Lewis',\n",
        "             'Joseph Hall', 'Kristen Thomas', 'Michael Brown', 'Emily Hernandez', 'Nicholas Hernandez', 'Samantha Taylor',\n",
        "             'Amanda Rodriguez', 'Robert Young', 'Alexis Scott', 'Natalie Hernandez', 'Brandon Perez', 'Lauren White', 'Michael Clark',\n",
        "             'Samantha Lee', 'Joshua Baker']"
      ],
      "metadata": {
        "id": "8e7HjnoBtIOb"
      },
      "execution_count": null,
      "outputs": []
    },
    {
      "cell_type": "markdown",
      "source": [
        "### **2) Lọc danh sách (1)**"
      ],
      "metadata": {
        "id": "F3PONxsgrTyh"
      }
    },
    {
      "cell_type": "markdown",
      "source": [
        "Cho danh sách usernames chứa các họ tên đầy đủ. Viết một chương trình Python để thực hiện các yêu cầu sau:\n",
        "- Xây dựng một hàm trả về một danh sách con gồm các tên bắt đầu bằng chữ cái “A”.\n",
        "- Gọi hàm và in danh sách kết quả ra màn hình."
      ],
      "metadata": {
        "id": "AVEL_FSMrz-D"
      }
    },
    {
      "cell_type": "code",
      "source": [],
      "metadata": {
        "id": "_JvBnbBaxKqa"
      },
      "execution_count": null,
      "outputs": []
    },
    {
      "cell_type": "markdown",
      "source": [
        "### **3) Lọc danh sách (2)**"
      ],
      "metadata": {
        "id": "BdwL3OGusKTn"
      }
    },
    {
      "cell_type": "markdown",
      "source": [
        "Cho danh sách usernames chứa các họ tên đầy đủ. Viết một chương trình Python để thực hiện các yêu cầu sau:\n",
        "\n",
        "- Xây dựng một hàm trả về một danh sách con gồm các tên có chữ cái “m”. (không phân biệt hoa và thường)\n",
        "- Gọi hàm và in danh sách kết quả ra màn hình.\n"
      ],
      "metadata": {
        "id": "z6xicczwsN3L"
      }
    },
    {
      "cell_type": "code",
      "source": [],
      "metadata": {
        "id": "YotD2MHHtEFi"
      },
      "execution_count": null,
      "outputs": []
    },
    {
      "cell_type": "markdown",
      "source": [],
      "metadata": {
        "id": "X1cyrtgdtaRM"
      }
    },
    {
      "cell_type": "markdown",
      "source": [
        "### **4) Lọc danh sách (3)**"
      ],
      "metadata": {
        "id": "fRe63wSJtXY0"
      }
    },
    {
      "cell_type": "markdown",
      "source": [
        "Cho danh sách usernames chứa các họ tên đầy đủ. Viết một chương trình Python để thực hiện các yêu cầu sau:\n",
        "\n",
        "- Xây dựng một hàm trả về một danh sách con gồm các tên có chữ cái thứ hai là “i”.\n",
        "- Gọi hàm và in danh sách kết quả ra màn hình."
      ],
      "metadata": {
        "id": "cDwWP-EMt5CQ"
      }
    },
    {
      "cell_type": "code",
      "source": [],
      "metadata": {
        "id": "76JpVBtMtW9T"
      },
      "execution_count": null,
      "outputs": []
    },
    {
      "cell_type": "markdown",
      "source": [
        "### **5) Lọc danh sách (4)**"
      ],
      "metadata": {
        "id": "7VN-TjZwwTZd"
      }
    },
    {
      "cell_type": "markdown",
      "source": [
        "Cho danh sách usernames chứa các họ tên đầy đủ. Viết một chương trình Python để thực hiện các yêu cầu sau:\n",
        "\n",
        "- Xây dựng một hàm trả về một danh sách con gồm các tên có họ là “Brown”.\n",
        "- Gọi hàm và in danh sách kết quả ra màn hình."
      ],
      "metadata": {
        "id": "ylbt0snRwdFW"
      }
    },
    {
      "cell_type": "code",
      "source": [],
      "metadata": {
        "id": "-FEP_8sTwWrs"
      },
      "execution_count": null,
      "outputs": []
    }
  ]
}