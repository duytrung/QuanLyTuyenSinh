{
  "nbformat": 4,
  "nbformat_minor": 0,
  "metadata": {
    "colab": {
      "provenance": [],
      "include_colab_link": true
    },
    "kernelspec": {
      "name": "python3",
      "display_name": "Python 3"
    },
    "language_info": {
      "name": "python"
    }
  },
  "cells": [
    {
      "cell_type": "markdown",
      "metadata": {
        "id": "view-in-github",
        "colab_type": "text"
      },
      "source": [
        "<a href=\"https://colab.research.google.com/github/duytrung/QuanLyTuyenSinh/blob/main/NumPy_arrays_demo_part_2.ipynb\" target=\"_parent\"><img src=\"https://colab.research.google.com/assets/colab-badge.svg\" alt=\"Open In Colab\"/></a>"
      ]
    },
    {
      "cell_type": "markdown",
      "source": [
        "# Arithmetics on NumPy arrays\n"
      ],
      "metadata": {
        "id": "bW56VjKorsZf"
      }
    },
    {
      "cell_type": "markdown",
      "source": [
        "## 🛠️ Import NumPy\n",
        "Before using NumPy, you need to import it"
      ],
      "metadata": {
        "id": "3WCAGFylr-Zb"
      }
    },
    {
      "cell_type": "code",
      "execution_count": null,
      "metadata": {
        "id": "CXnBiUyzrGup"
      },
      "outputs": [],
      "source": [
        "import numpy as np"
      ]
    },
    {
      "cell_type": "markdown",
      "source": [
        "## 🔢 Arithmetics\n",
        "\n",
        "\n",
        "One of the most convenient features of arrays in NumPy is the ability to perform arithmetic operations on them. Let's see how it works."
      ],
      "metadata": {
        "id": "zdjiq-N8sQQp"
      }
    },
    {
      "cell_type": "markdown",
      "source": [
        "### 1️⃣ With a scalar (single number)"
      ],
      "metadata": {
        "id": "ww-VG_kXtTzc"
      }
    },
    {
      "cell_type": "markdown",
      "source": [
        "Let's create an array of 5 random integers before"
      ],
      "metadata": {
        "id": "Xh12Px7It74A"
      }
    },
    {
      "cell_type": "code",
      "source": [
        "arr = np.random.randint(1, 10, 5)\n",
        "\n",
        "arr"
      ],
      "metadata": {
        "colab": {
          "base_uri": "https://localhost:8080/"
        },
        "id": "AcMvprPOtTFt",
        "outputId": "74d6eff9-67ca-4143-812c-3997f7c4b152"
      },
      "execution_count": null,
      "outputs": [
        {
          "output_type": "execute_result",
          "data": {
            "text/plain": [
              "array([3, 2, 9, 2, 3])"
            ]
          },
          "metadata": {},
          "execution_count": 2
        }
      ]
    },
    {
      "cell_type": "markdown",
      "source": [
        "Then let's try to perform some arithmetics with the created array and a scalar value."
      ],
      "metadata": {
        "id": "uXUVV9T3t7Rh"
      }
    },
    {
      "cell_type": "code",
      "source": [
        "arr2 = arr + 1\n",
        "\n",
        "arr2"
      ],
      "metadata": {
        "colab": {
          "base_uri": "https://localhost:8080/"
        },
        "id": "w7ElvXybuuAO",
        "outputId": "11adec95-4e67-4ec2-a589-da41ce34a920"
      },
      "execution_count": null,
      "outputs": [
        {
          "output_type": "execute_result",
          "data": {
            "text/plain": [
              "array([ 4,  3, 10,  3,  4])"
            ]
          },
          "metadata": {},
          "execution_count": 3
        }
      ]
    },
    {
      "cell_type": "code",
      "source": [
        "arr2 = arr * 10\n",
        "\n",
        "arr2"
      ],
      "metadata": {
        "colab": {
          "base_uri": "https://localhost:8080/"
        },
        "id": "Fase3oIru4JH",
        "outputId": "76d121cb-90c9-4c24-f45b-379ff9d140ad"
      },
      "execution_count": null,
      "outputs": [
        {
          "output_type": "execute_result",
          "data": {
            "text/plain": [
              "array([30, 20, 90, 20, 30])"
            ]
          },
          "metadata": {},
          "execution_count": 5
        }
      ]
    },
    {
      "cell_type": "code",
      "source": [
        "arr2 = arr % 2\n",
        "\n",
        "arr2"
      ],
      "metadata": {
        "colab": {
          "base_uri": "https://localhost:8080/"
        },
        "id": "sJq4eEEWvBLW",
        "outputId": "27afdebb-7518-4fa1-8871-460afaa328fd"
      },
      "execution_count": null,
      "outputs": [
        {
          "output_type": "execute_result",
          "data": {
            "text/plain": [
              "array([1, 0, 1, 0, 1])"
            ]
          },
          "metadata": {},
          "execution_count": 6
        }
      ]
    },
    {
      "cell_type": "code",
      "source": [
        "arr2 = arr ** 2\n",
        "\n",
        "arr2"
      ],
      "metadata": {
        "colab": {
          "base_uri": "https://localhost:8080/"
        },
        "id": "iDmT9Gr_vFAI",
        "outputId": "10b2e45c-bcc4-412f-ea04-71f084442919"
      },
      "execution_count": null,
      "outputs": [
        {
          "output_type": "execute_result",
          "data": {
            "text/plain": [
              "array([ 9,  4, 81,  4,  9])"
            ]
          },
          "metadata": {},
          "execution_count": 7
        }
      ]
    },
    {
      "cell_type": "markdown",
      "source": [
        "### 2️⃣ With another array\n",
        "\n",
        "You can perform mathematics even using 2 different arrays, not only array and a scalar value"
      ],
      "metadata": {
        "id": "h00ufT_WvSKZ"
      }
    },
    {
      "cell_type": "markdown",
      "source": [
        "Let's create 2 arrays"
      ],
      "metadata": {
        "id": "NHJNbpvvwsIR"
      }
    },
    {
      "cell_type": "code",
      "source": [
        "arr1 = np.array([1, 2, 3])\n",
        "arr2 = np.array([4, 5, 6])"
      ],
      "metadata": {
        "id": "v3CsaGTAv-j7"
      },
      "execution_count": null,
      "outputs": []
    },
    {
      "cell_type": "markdown",
      "source": [
        "Then try to perform some calculations with them"
      ],
      "metadata": {
        "id": "ZL9a0RzOwycl"
      }
    },
    {
      "cell_type": "code",
      "source": [
        "res_arr = arr1 + arr2\n",
        "\n",
        "res_arr"
      ],
      "metadata": {
        "colab": {
          "base_uri": "https://localhost:8080/"
        },
        "id": "M3xT-nfuw4F1",
        "outputId": "59d3b9f5-1106-4514-b4c4-7db2789af3eb"
      },
      "execution_count": null,
      "outputs": [
        {
          "output_type": "execute_result",
          "data": {
            "text/plain": [
              "array([5, 7, 9])"
            ]
          },
          "metadata": {},
          "execution_count": 10
        }
      ]
    },
    {
      "cell_type": "code",
      "source": [
        "res_arr = arr1 * arr2\n",
        "\n",
        "res_arr"
      ],
      "metadata": {
        "colab": {
          "base_uri": "https://localhost:8080/"
        },
        "id": "av8abHtixA0c",
        "outputId": "cc72a255-5bfd-4c36-a265-01be63cdc952"
      },
      "execution_count": null,
      "outputs": [
        {
          "output_type": "execute_result",
          "data": {
            "text/plain": [
              "array([ 4, 10, 18])"
            ]
          },
          "metadata": {},
          "execution_count": 11
        }
      ]
    },
    {
      "cell_type": "markdown",
      "source": [
        "... or even this"
      ],
      "metadata": {
        "id": "J-saFG5UxOrz"
      }
    },
    {
      "cell_type": "code",
      "source": [
        "res_arr = (arr1 + arr2 * 2) / np.array([7, 8, 9])\n",
        "\n",
        "res_arr"
      ],
      "metadata": {
        "colab": {
          "base_uri": "https://localhost:8080/"
        },
        "id": "ip1pxiyexFuJ",
        "outputId": "0c25d392-baa8-4c39-f290-7c5a442e25ae"
      },
      "execution_count": null,
      "outputs": [
        {
          "output_type": "execute_result",
          "data": {
            "text/plain": [
              "array([1.28571429, 1.5       , 1.66666667])"
            ]
          },
          "metadata": {},
          "execution_count": 12
        }
      ]
    },
    {
      "cell_type": "markdown",
      "source": [
        "### ⚠️ Pay attention\n",
        "\n",
        "Operations with arrays of different lengths are not allowed.\n",
        "\n",
        "This won't work!"
      ],
      "metadata": {
        "id": "FDGBuU7mxh1m"
      }
    },
    {
      "cell_type": "code",
      "source": [
        "arr1 = np.array([1, 2, 3, 4])\n",
        "arr2 = np.array([5, 6])\n",
        "\n",
        "arr3 = arr1 + arr2"
      ],
      "metadata": {
        "colab": {
          "base_uri": "https://localhost:8080/",
          "height": 176
        },
        "id": "EpcYzwy7xxlX",
        "outputId": "56b9a4e8-13a2-417c-9fbb-e09974116624"
      },
      "execution_count": null,
      "outputs": [
        {
          "output_type": "error",
          "ename": "ValueError",
          "evalue": "operands could not be broadcast together with shapes (4,) (2,) ",
          "traceback": [
            "\u001b[0;31m---------------------------------------------------------------------------\u001b[0m",
            "\u001b[0;31mValueError\u001b[0m                                Traceback (most recent call last)",
            "\u001b[0;32m<ipython-input-13-d994a55e9bab>\u001b[0m in \u001b[0;36m<cell line: 4>\u001b[0;34m()\u001b[0m\n\u001b[1;32m      2\u001b[0m \u001b[0marr2\u001b[0m \u001b[0;34m=\u001b[0m \u001b[0mnp\u001b[0m\u001b[0;34m.\u001b[0m\u001b[0marray\u001b[0m\u001b[0;34m(\u001b[0m\u001b[0;34m[\u001b[0m\u001b[0;36m5\u001b[0m\u001b[0;34m,\u001b[0m \u001b[0;36m6\u001b[0m\u001b[0;34m]\u001b[0m\u001b[0;34m)\u001b[0m\u001b[0;34m\u001b[0m\u001b[0;34m\u001b[0m\u001b[0m\n\u001b[1;32m      3\u001b[0m \u001b[0;34m\u001b[0m\u001b[0m\n\u001b[0;32m----> 4\u001b[0;31m \u001b[0marr3\u001b[0m \u001b[0;34m=\u001b[0m \u001b[0marr1\u001b[0m \u001b[0;34m+\u001b[0m \u001b[0marr2\u001b[0m\u001b[0;34m\u001b[0m\u001b[0;34m\u001b[0m\u001b[0m\n\u001b[0m",
            "\u001b[0;31mValueError\u001b[0m: operands could not be broadcast together with shapes (4,) (2,) "
          ]
        }
      ]
    },
    {
      "cell_type": "markdown",
      "source": [
        "## Conclusion\n",
        "\n",
        "You got familiar with arithmetic operations on NumPy arrays.\n",
        "\n",
        "You're great!🎉\n",
        "\n",
        "⚠️ Please, do not forget, that operations with arrays of different length is impossible.\n",
        "\n",
        "So, it's time to go back to the presentation 😉"
      ],
      "metadata": {
        "id": "5dWDGhDgyFxh"
      }
    }
  ]
}