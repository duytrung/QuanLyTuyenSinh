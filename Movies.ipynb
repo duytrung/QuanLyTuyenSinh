{
  "nbformat": 4,
  "nbformat_minor": 0,
  "metadata": {
    "colab": {
      "provenance": [],
      "toc_visible": true,
      "include_colab_link": true
    },
    "kernelspec": {
      "name": "python3",
      "display_name": "Python 3"
    },
    "language_info": {
      "name": "python"
    }
  },
  "cells": [
    {
      "cell_type": "markdown",
      "metadata": {
        "id": "view-in-github",
        "colab_type": "text"
      },
      "source": [
        "<a href=\"https://colab.research.google.com/github/duytrung/QuanLyTuyenSinh/blob/main/Movies.ipynb\" target=\"_parent\"><img src=\"https://colab.research.google.com/assets/colab-badge.svg\" alt=\"Open In Colab\"/></a>"
      ]
    },
    {
      "cell_type": "markdown",
      "source": [
        "# **🎬 Hollywood Data Analysis**\n",
        "\n",
        "![cover image](https://drive.google.com/uc?id=1Q74k0jius6M_kWRf91zZIJ5BdLzMQpjh)\n",
        "\n",
        "## **📃 Introduction**\n",
        "\n",
        "In this Notebook, we'll work with a real dataset about movies. It includes details like the movie title, release year, budget, gross earnings, and more.\n",
        "\n",
        "We'll cover the following tasks:\n",
        "\n",
        "* Adding new columns to the dataset by performing basic math operations like addition, subtraction, and division on existing columns.\n",
        "* Adding new columns to the dataset by comparing values using operations like less-than (<), greater-than (>), and equals (==) on existing columns.\n",
        "* Dropping single or multiple columns.\n",
        "* Slicing the dataset by conditins.\n",
        "\n",
        "Let's get started!"
      ],
      "metadata": {
        "id": "K5Ru7cAl_IKq"
      }
    },
    {
      "cell_type": "markdown",
      "source": [
        "## **1️⃣ Data overview**"
      ],
      "metadata": {
        "id": "-bWe83zwHjGJ"
      }
    },
    {
      "cell_type": "markdown",
      "source": [
        "### **📥 Data loading**"
      ],
      "metadata": {
        "id": "zN6Q42Eq_ZXW"
      }
    },
    {
      "cell_type": "markdown",
      "source": [
        "**Pandas import**\n",
        "\n",
        "At the first, we need to import Pandas. Write the code to import Pandas in the code cell below.\n",
        "\n",
        "> ⚠️ Don't forget to use the alias that is regularly used by all Data Analysts to import Pandas library."
      ],
      "metadata": {
        "id": "OgMOsiF__i5_"
      }
    },
    {
      "cell_type": "code",
      "execution_count": null,
      "metadata": {
        "id": "C77ZzCyl_EYl"
      },
      "outputs": [],
      "source": [
        "# Enter your code"
      ]
    },
    {
      "cell_type": "markdown",
      "source": [
        "**Loading data by URL**\n",
        "\n",
        "The data to work is located in CSV file by the following link: https://raw.githubusercontent.com/RusAbk/sca_datasets/main/movies.csv\n",
        "\n",
        "Read the given dataset into a pandas dataframe (usually has name `df`)"
      ],
      "metadata": {
        "id": "GShSbVd0AOWm"
      }
    },
    {
      "cell_type": "code",
      "source": [
        "# Your code for loading data into dataframe"
      ],
      "metadata": {
        "id": "EiGpfLwZAnt4"
      },
      "execution_count": null,
      "outputs": []
    },
    {
      "cell_type": "markdown",
      "source": [
        "### **👁️ The first sight**"
      ],
      "metadata": {
        "id": "dddlV3u2A3IO"
      }
    },
    {
      "cell_type": "markdown",
      "source": [
        "**Columns**\n",
        "\n",
        "Also, it's a very common action at the beginning to output the list of all the columns in the dataframe."
      ],
      "metadata": {
        "id": "zqSQSi6uDzsx"
      }
    },
    {
      "cell_type": "code",
      "source": [
        "# Your code showing the list of columns"
      ],
      "metadata": {
        "id": "QcDyI_WqEFyN"
      },
      "execution_count": null,
      "outputs": []
    },
    {
      "cell_type": "markdown",
      "source": [
        "**Data structure overview**\n",
        "\n",
        "Another common action is to check the data structure. Output an overview of the columns in the cell below."
      ],
      "metadata": {
        "id": "-IoMIg5CEM20"
      }
    },
    {
      "cell_type": "code",
      "source": [
        "# Your code showing dataframe columns' types"
      ],
      "metadata": {
        "id": "CrEnxkvHE66G"
      },
      "execution_count": null,
      "outputs": []
    },
    {
      "cell_type": "markdown",
      "source": [
        "**The first 5 rows**\n",
        "\n",
        "Before performing any operation with data, you need to take a look to ensure that everything is okay with the loaded data.\n",
        "\n",
        "In the cell below, write a code to output the first 5 rows of the dataframe."
      ],
      "metadata": {
        "id": "OVSdkyB6Crja"
      }
    },
    {
      "cell_type": "code",
      "source": [
        "# Your code showing the first 5 row"
      ],
      "metadata": {
        "id": "wd30xszCDoTA"
      },
      "execution_count": null,
      "outputs": []
    },
    {
      "cell_type": "markdown",
      "source": [
        "### **📊 Basic descriptive statistics**"
      ],
      "metadata": {
        "id": "w-_TlF7fFoB2"
      }
    },
    {
      "cell_type": "markdown",
      "source": [
        "Show the basic descriptive statistics for the entire dataframe."
      ],
      "metadata": {
        "id": "nsFkPXF8F1sO"
      }
    },
    {
      "cell_type": "code",
      "source": [
        "# Your code showing descriptive statistics for the dataframe"
      ],
      "metadata": {
        "id": "2SKQrfiqGF1h"
      },
      "execution_count": null,
      "outputs": []
    },
    {
      "cell_type": "markdown",
      "source": [
        "## **2️⃣ Data operations**"
      ],
      "metadata": {
        "id": "jWcH6H9THRfl"
      }
    },
    {
      "cell_type": "markdown",
      "source": [
        "### **🤑 Create a new column revenue**\n",
        "\n",
        "Let's insert a new column called **\"revenue\"** into the dataframe.\n",
        "\n",
        "This column should show the difference between the values in the **\"gross\"** and **\"budget\"** columns."
      ],
      "metadata": {
        "id": "_eqciLpEH8Ip"
      }
    },
    {
      "cell_type": "code",
      "source": [
        "# Enter your code"
      ],
      "metadata": {
        "id": "YyiXE3NGIcpx"
      },
      "execution_count": null,
      "outputs": []
    },
    {
      "cell_type": "code",
      "source": [
        "# Show the first 5 rows again to check"
      ],
      "metadata": {
        "id": "e-E89IHFImkp"
      },
      "execution_count": null,
      "outputs": []
    },
    {
      "cell_type": "markdown",
      "source": [
        "### **% Create a new column `percentage_profit`**"
      ],
      "metadata": {
        "id": "M38WRomqI31Z"
      }
    },
    {
      "cell_type": "markdown",
      "source": [
        "Then let's create a new column named **\"percentage_profit\"** in the dataframe.\n",
        "\n",
        "We'll compute its values as the ratio of revenue to gross earnings, multiplied by 100 for each row.\n",
        "\n",
        "> 👉For instance, if the **gross earnings** are 200 USD and the **revenue** is 100 USD, the **percentage_profit** will be 50%\n",
        ">\n",
        "> `(100 / 200) * 100 = 50`"
      ],
      "metadata": {
        "id": "en3HThToJPY3"
      }
    },
    {
      "cell_type": "code",
      "source": [
        "# Enter your code"
      ],
      "metadata": {
        "id": "BtDW3dAnJxcj"
      },
      "execution_count": null,
      "outputs": []
    },
    {
      "cell_type": "code",
      "source": [
        "# Show the first 5 rows again to check"
      ],
      "metadata": {
        "id": "lgL_OoPCKGEX"
      },
      "execution_count": null,
      "outputs": []
    },
    {
      "cell_type": "markdown",
      "source": [
        "### **💎 Create a new column `high_budget_movie`**"
      ],
      "metadata": {
        "id": "tR8LmKMFKe4X"
      }
    },
    {
      "cell_type": "markdown",
      "source": [
        "Introduce a new column named **\"high_budget_movie\"** into the dataframe.\n",
        "\n",
        "This column will mark each movie as `True` if its budget **exceeds 100 million**, or `False` if it does not."
      ],
      "metadata": {
        "id": "I3Tk9qdDKrYm"
      }
    },
    {
      "cell_type": "code",
      "source": [
        "# Enter your code"
      ],
      "metadata": {
        "id": "Fu-PykB5K5mc"
      },
      "execution_count": null,
      "outputs": []
    },
    {
      "cell_type": "code",
      "source": [
        "# Show the first 5 rows again to check"
      ],
      "metadata": {
        "id": "y9mbJdXwK7WG"
      },
      "execution_count": null,
      "outputs": []
    },
    {
      "cell_type": "markdown",
      "source": [
        "### **💪 Create a new column `successful_movie`**"
      ],
      "metadata": {
        "id": "zMQof6tJLQ2E"
      }
    },
    {
      "cell_type": "markdown",
      "source": [
        "Now let's append a new column to the dataframe called **\"successful_movie\"**.\n",
        "\n",
        "In this column, assign the value `True` if a movie's **percentage_profit** exceeds 50, and `False` otherwise."
      ],
      "metadata": {
        "id": "s5McUZJcLYWL"
      }
    },
    {
      "cell_type": "code",
      "source": [
        "# Enter your code"
      ],
      "metadata": {
        "id": "w33QMqReLoA2"
      },
      "execution_count": null,
      "outputs": []
    },
    {
      "cell_type": "code",
      "source": [
        "# Show the first 5 rows again to check"
      ],
      "metadata": {
        "id": "fvqg2GCpLuXW"
      },
      "execution_count": null,
      "outputs": []
    },
    {
      "cell_type": "markdown",
      "source": [
        "### **🏆 High-Rated Movies**"
      ],
      "metadata": {
        "id": "ZRMN2Z2AMGgp"
      }
    },
    {
      "cell_type": "markdown",
      "source": [
        "Add a new column named **\"high_rated_movie\"** to the dataframe.\n",
        "\n",
        "If a **movie's score** exceeds 8, mark it as `True`; otherwise, mark it as `False`."
      ],
      "metadata": {
        "id": "Yf7xKEScMR11"
      }
    },
    {
      "cell_type": "code",
      "source": [
        "# Enter your code"
      ],
      "metadata": {
        "id": "OZQVNYxwMbfJ"
      },
      "execution_count": null,
      "outputs": []
    },
    {
      "cell_type": "code",
      "source": [
        "# Show the first 5 rows again to check"
      ],
      "metadata": {
        "id": "cLLA9-V5MiML"
      },
      "execution_count": null,
      "outputs": []
    },
    {
      "cell_type": "markdown",
      "source": [
        "### **🆕 Create a new column `is_new_release`**"
      ],
      "metadata": {
        "id": "tfnRlgLZMzpu"
      }
    },
    {
      "cell_type": "markdown",
      "source": [
        "Let's add a new column called **\"is_new_release\"** to the dataframe.\n",
        "\n",
        "This column will be `True` if the value in the **\"year\"** column is **after 2020**, and `False` otherwise."
      ],
      "metadata": {
        "id": "OufGDq_wNEpn"
      }
    },
    {
      "cell_type": "code",
      "source": [
        "# Enter your code"
      ],
      "metadata": {
        "id": "B12jK6l8NOwU"
      },
      "execution_count": null,
      "outputs": []
    },
    {
      "cell_type": "code",
      "source": [
        "# Show the first 5 rows again to check"
      ],
      "metadata": {
        "id": "Or701wGTNSul"
      },
      "execution_count": null,
      "outputs": []
    },
    {
      "cell_type": "markdown",
      "source": [
        "### **⏳ Create a new column `is_long_movie`**"
      ],
      "metadata": {
        "id": "vjWVRLK5N6GE"
      }
    },
    {
      "cell_type": "markdown",
      "source": [
        "Add a new column named **\"is_long_movie\"** into the dataframe.\n",
        "\n",
        "If the value in the **\"runtime\"** column **exceeds 150 minut**es, assign `True`; otherwise, assign `False`."
      ],
      "metadata": {
        "id": "XexP3m0SOBnQ"
      }
    },
    {
      "cell_type": "code",
      "source": [
        "# Enter your code"
      ],
      "metadata": {
        "id": "zAw2UaNlORXe"
      },
      "execution_count": null,
      "outputs": []
    },
    {
      "cell_type": "code",
      "source": [
        "# Show the first 5 rows again to check"
      ],
      "metadata": {
        "id": "SdIgkW8xOWaN"
      },
      "execution_count": null,
      "outputs": []
    },
    {
      "cell_type": "markdown",
      "source": [
        "### **📆 Age of Movies**"
      ],
      "metadata": {
        "id": "L7iTY42NPa0h"
      }
    },
    {
      "cell_type": "markdown",
      "source": [
        "Create a new column named **age** to calculate the age of the movie in years.\n",
        "\n",
        "Find it by subtracting the year column from the current year."
      ],
      "metadata": {
        "id": "2JfSXAgqPkrx"
      }
    },
    {
      "cell_type": "code",
      "source": [
        "# Your code"
      ],
      "metadata": {
        "id": "VE3Omd-iPtyU"
      },
      "execution_count": null,
      "outputs": []
    },
    {
      "cell_type": "code",
      "source": [
        "# Show the first 5 rows again to check"
      ],
      "metadata": {
        "id": "2XIWtUCFP19U"
      },
      "execution_count": null,
      "outputs": []
    },
    {
      "cell_type": "markdown",
      "source": [
        "## **3️⃣ Dataframe slicing**"
      ],
      "metadata": {
        "id": "povOX-SGQanP"
      }
    },
    {
      "cell_type": "markdown",
      "source": [
        "### **🥇 Top High-Rated Movies**"
      ],
      "metadata": {
        "id": "uuZn6iYbV-6H"
      }
    },
    {
      "cell_type": "markdown",
      "source": [
        "Create a new DataFrame named `top10_movies`, which should include the top 10 highly-rated movies.\n",
        "\n",
        "Sort this DataFrame based on the score column in descending order."
      ],
      "metadata": {
        "id": "iUvRuwcUWGUL"
      }
    },
    {
      "cell_type": "code",
      "source": [
        "# Your code"
      ],
      "metadata": {
        "id": "WF5swbSGWWWj"
      },
      "execution_count": null,
      "outputs": []
    },
    {
      "cell_type": "markdown",
      "source": [
        "... and output them after (entire dataframe)"
      ],
      "metadata": {
        "id": "YWEjUxTxWjNP"
      }
    },
    {
      "cell_type": "code",
      "source": [
        "# Your code"
      ],
      "metadata": {
        "id": "Z9h0QhxPWpva"
      },
      "execution_count": null,
      "outputs": []
    },
    {
      "cell_type": "markdown",
      "source": [
        "### **💎 Only successful ones**"
      ],
      "metadata": {
        "id": "KzdTSqvdQls4"
      }
    },
    {
      "cell_type": "markdown",
      "source": [
        "Create a new DataFrame named **successful_movies** containing only the movies that are successful according to the **'successful_movie'** column values."
      ],
      "metadata": {
        "id": "lT118ziPQ6Fv"
      }
    },
    {
      "cell_type": "code",
      "source": [
        "# Your code"
      ],
      "metadata": {
        "id": "qL0Ur2hBQ5s4"
      },
      "execution_count": null,
      "outputs": []
    },
    {
      "cell_type": "code",
      "source": [
        "# Show the first 5 rows of the nes dataframe to check the result"
      ],
      "metadata": {
        "id": "y874acNWRubx"
      },
      "execution_count": null,
      "outputs": []
    },
    {
      "cell_type": "markdown",
      "source": [
        "As the column successful_movie is useles for the created dataframe, it's good idea to remove it. Let's do this."
      ],
      "metadata": {
        "id": "kvxgujJOR3Kc"
      }
    },
    {
      "cell_type": "code",
      "source": [
        "# Your code"
      ],
      "metadata": {
        "id": "2QuE3_GRSF0G"
      },
      "execution_count": null,
      "outputs": []
    },
    {
      "cell_type": "code",
      "source": [
        "# Show the first 5 rows of the nes dataframe to check the result"
      ],
      "metadata": {
        "id": "KUJK3uUtSMNt"
      },
      "execution_count": null,
      "outputs": []
    },
    {
      "cell_type": "markdown",
      "source": [
        "### **🤖 Sci-Fi Blockbusters**"
      ],
      "metadata": {
        "id": "2m6RkbuYSaN1"
      }
    },
    {
      "cell_type": "markdown",
      "source": [
        "Create a new DataFrame named **sci_fi_blockbusters** containing movies that are **'Sci-Fi'** genre and have a **gross greater than $150 million**."
      ],
      "metadata": {
        "id": "SOypleJkSrHP"
      }
    },
    {
      "cell_type": "code",
      "source": [
        "# Your code"
      ],
      "metadata": {
        "id": "I3-K_6-FS2A3"
      },
      "execution_count": null,
      "outputs": []
    },
    {
      "cell_type": "code",
      "source": [
        "# Show the first 5 rows of the nes dataframe to check the result"
      ],
      "metadata": {
        "id": "aDCipto8TQJr"
      },
      "execution_count": null,
      "outputs": []
    },
    {
      "cell_type": "markdown",
      "source": [
        "### **🏖️ Movies Released in Summer**"
      ],
      "metadata": {
        "id": "lNqb0IOcTim3"
      }
    },
    {
      "cell_type": "markdown",
      "source": [
        "Create a new DataFrame containing movies released in June, July, or August.\n",
        "\n",
        "Store the result in dataframe `summer_movies`.\n",
        "\n",
        "> 🏋️‍♀️ Please **note that this task cannot be fully solved using the tools and constructions we have covered in the lecture**.\n",
        ">\n",
        "> You need to demonstrate resourcefulness and show your skill in searching for information on the internet."
      ],
      "metadata": {
        "id": "APeVW_JlVC0u"
      }
    },
    {
      "cell_type": "code",
      "source": [
        "# Your code"
      ],
      "metadata": {
        "id": "t64OWBApUqKK"
      },
      "execution_count": null,
      "outputs": []
    },
    {
      "cell_type": "code",
      "source": [
        "# Show the first 5 rows of the nes dataframe to check the result"
      ],
      "metadata": {
        "id": "icPa1qrQTvjA"
      },
      "execution_count": null,
      "outputs": []
    }
  ]
}