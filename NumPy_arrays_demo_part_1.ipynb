{
  "nbformat": 4,
  "nbformat_minor": 0,
  "metadata": {
    "colab": {
      "provenance": [],
      "include_colab_link": true
    },
    "kernelspec": {
      "name": "python3",
      "display_name": "Python 3"
    },
    "language_info": {
      "name": "python"
    }
  },
  "cells": [
    {
      "cell_type": "markdown",
      "metadata": {
        "id": "view-in-github",
        "colab_type": "text"
      },
      "source": [
        "<a href=\"https://colab.research.google.com/github/duytrung/QuanLyTuyenSinh/blob/main/NumPy_arrays_demo_part_1.ipynb\" target=\"_parent\"><img src=\"https://colab.research.google.com/assets/colab-badge.svg\" alt=\"Open In Colab\"/></a>"
      ]
    },
    {
      "cell_type": "markdown",
      "source": [
        "# NumPy arrays demo - part 1"
      ],
      "metadata": {
        "id": "ynQiHY2EViv4"
      }
    },
    {
      "cell_type": "markdown",
      "source": [
        "## 🛠️ Import NumPy\n",
        "\n",
        "Before using NumPy, you need to import it"
      ],
      "metadata": {
        "id": "Gxa_xwb7Vz5F"
      }
    },
    {
      "cell_type": "code",
      "source": [
        "import numpy as np"
      ],
      "metadata": {
        "id": "NyKT-W8zVzcB"
      },
      "execution_count": null,
      "outputs": []
    },
    {
      "cell_type": "markdown",
      "source": [
        "## 🏗 Array creation\n"
      ],
      "metadata": {
        "id": "R81hjhUHVkjD"
      }
    },
    {
      "cell_type": "markdown",
      "source": [
        "### 1️⃣ From basic Python List\n",
        "\n",
        "Arrays can be created in a lot of different ways\n",
        "For example, from basic Python list"
      ],
      "metadata": {
        "id": "xgOHcfDyXHr2"
      }
    },
    {
      "cell_type": "code",
      "execution_count": 2,
      "metadata": {
        "id": "38a_MGOYVUnk",
        "outputId": "9ae39105-f9b5-4181-c8bb-6c0f1a4f3ffd",
        "colab": {
          "base_uri": "https://localhost:8080/",
          "height": 184
        }
      },
      "outputs": [
        {
          "output_type": "error",
          "ename": "NameError",
          "evalue": "name 'np' is not defined",
          "traceback": [
            "\u001b[0;31m---------------------------------------------------------------------------\u001b[0m",
            "\u001b[0;31mNameError\u001b[0m                                 Traceback (most recent call last)",
            "\u001b[0;32m<ipython-input-2-e06c5b58a6a2>\u001b[0m in \u001b[0;36m<cell line: 0>\u001b[0;34m()\u001b[0m\n\u001b[1;32m      3\u001b[0m \u001b[0;34m\u001b[0m\u001b[0m\n\u001b[1;32m      4\u001b[0m \u001b[0;31m# Creating a NumPy array from the created list\u001b[0m\u001b[0;34m\u001b[0m\u001b[0;34m\u001b[0m\u001b[0m\n\u001b[0;32m----> 5\u001b[0;31m \u001b[0mA1\u001b[0m \u001b[0;34m=\u001b[0m \u001b[0mnp\u001b[0m\u001b[0;34m.\u001b[0m\u001b[0marray\u001b[0m\u001b[0;34m(\u001b[0m\u001b[0mL1\u001b[0m\u001b[0;34m)\u001b[0m\u001b[0;34m\u001b[0m\u001b[0;34m\u001b[0m\u001b[0m\n\u001b[0m",
            "\u001b[0;31mNameError\u001b[0m: name 'np' is not defined"
          ]
        }
      ],
      "source": [
        "# A basic Python list creation\n",
        "L1 = [1, 2, 3]\n",
        "\n",
        "# Creating a NumPy array from the created list\n",
        "A1 = np.array(L1)"
      ]
    },
    {
      "cell_type": "markdown",
      "source": [
        "Let's check the result"
      ],
      "metadata": {
        "id": "gEKE0INnWepP"
      }
    },
    {
      "cell_type": "code",
      "source": [
        "L1"
      ],
      "metadata": {
        "id": "lKJ-V-4AWKik"
      },
      "execution_count": null,
      "outputs": []
    },
    {
      "cell_type": "code",
      "source": [
        "A1"
      ],
      "metadata": {
        "id": "86qg7FZgWtkU"
      },
      "execution_count": null,
      "outputs": []
    },
    {
      "cell_type": "markdown",
      "source": [
        "You are able to make it even the following way:"
      ],
      "metadata": {
        "id": "k7caFwcVWxCV"
      }
    },
    {
      "cell_type": "code",
      "source": [
        "A2 = np.array([5, 4, 3, 2, 1])\n",
        "A2"
      ],
      "metadata": {
        "id": "K6TZU7Z_W2wf"
      },
      "execution_count": null,
      "outputs": []
    },
    {
      "cell_type": "markdown",
      "source": [
        "### 2️⃣ Using the method `.arange(start, stop, step)`\n",
        "\n",
        "There are special methods in the numpy library that let you create an array with some generated numerical data.\n",
        "\n",
        "The first of them is `np.arange(start, stop, step)`\n",
        "\n",
        "This method returns an array of numbers from `start` (including) to `stop` (excluding) with a `step` size of step.\n",
        "\n",
        "To make it easier to remember let's state that **arange** is a **array from range**"
      ],
      "metadata": {
        "id": "mr-BgmqIaaYA"
      }
    },
    {
      "cell_type": "code",
      "source": [
        "# Creating an array of integers starting from 1,\n",
        "# ending with 10 (excluding), with the step of 2\n",
        "arr1 = np.arange(1, 10, 2)\n",
        "\n",
        "# Show the value of the variable\n",
        "arr1"
      ],
      "metadata": {
        "id": "yLYCh0EEbif9"
      },
      "execution_count": null,
      "outputs": []
    },
    {
      "cell_type": "code",
      "source": [
        "# Creating an array of integers starting from 5,\n",
        "# ending with 10 (excluding), with the step of 1 (by default)\n",
        "arr2 = np.arange(5, 10)\n",
        "\n",
        "# Show the value of the variable\n",
        "arr2"
      ],
      "metadata": {
        "id": "g6s5OCvAcuM3"
      },
      "execution_count": null,
      "outputs": []
    },
    {
      "cell_type": "code",
      "source": [
        "# Creating an array of the first 10 integers\n",
        "arr3 = np.arange(10)\n",
        "\n",
        "# Show the value of the variable\n",
        "arr3"
      ],
      "metadata": {
        "colab": {
          "base_uri": "https://localhost:8080/",
          "height": 221
        },
        "id": "tT3pqzVgdKGZ",
        "outputId": "135fd6ff-2973-42ca-8267-e8bfede5b5d9"
      },
      "execution_count": 3,
      "outputs": [
        {
          "output_type": "error",
          "ename": "NameError",
          "evalue": "name 'np' is not defined",
          "traceback": [
            "\u001b[0;31m---------------------------------------------------------------------------\u001b[0m",
            "\u001b[0;31mNameError\u001b[0m                                 Traceback (most recent call last)",
            "\u001b[0;32m<ipython-input-3-659af895146e>\u001b[0m in \u001b[0;36m<cell line: 0>\u001b[0;34m()\u001b[0m\n\u001b[1;32m      1\u001b[0m \u001b[0;31m# Creating an array of the first 10 integers\u001b[0m\u001b[0;34m\u001b[0m\u001b[0;34m\u001b[0m\u001b[0m\n\u001b[0;32m----> 2\u001b[0;31m \u001b[0marr3\u001b[0m \u001b[0;34m=\u001b[0m \u001b[0mnp\u001b[0m\u001b[0;34m.\u001b[0m\u001b[0marange\u001b[0m\u001b[0;34m(\u001b[0m\u001b[0;36m10\u001b[0m\u001b[0;34m)\u001b[0m\u001b[0;34m\u001b[0m\u001b[0;34m\u001b[0m\u001b[0m\n\u001b[0m\u001b[1;32m      3\u001b[0m \u001b[0;34m\u001b[0m\u001b[0m\n\u001b[1;32m      4\u001b[0m \u001b[0;31m# Show the value of the variable\u001b[0m\u001b[0;34m\u001b[0m\u001b[0;34m\u001b[0m\u001b[0m\n\u001b[1;32m      5\u001b[0m \u001b[0marr3\u001b[0m\u001b[0;34m\u001b[0m\u001b[0;34m\u001b[0m\u001b[0m\n",
            "\u001b[0;31mNameError\u001b[0m: name 'np' is not defined"
          ]
        }
      ]
    },
    {
      "cell_type": "markdown",
      "source": [
        "### 3️⃣ Using the method `.linspace(start, stop, num)`\n",
        "\n",
        "You also can use the method `np.linspace(start, stop, num)`\n",
        "\n",
        "This method returns an array of `num` numbers from `start` (including) to `stop` (including), with equal spacing between them.\n",
        "\n",
        "To make it easier to remember let's state that **linspace** is a **linear space**"
      ],
      "metadata": {
        "id": "qp5j7BlSdf7s"
      }
    },
    {
      "cell_type": "code",
      "source": [
        "# Creating an array of numbers starting from 1 (including),\n",
        "# ending with 10 (including), containing 10 elements with the equal spacing\n",
        "arr1 = np.linspace(1, 10, 10)\n",
        "\n",
        "# Show the value of the variable\n",
        "arr1"
      ],
      "metadata": {
        "id": "3wEWHJ7CeNqf"
      },
      "execution_count": null,
      "outputs": []
    },
    {
      "cell_type": "markdown",
      "source": [
        "📌 Please note that linspace **generates an array of floating point numbers** always."
      ],
      "metadata": {
        "id": "nWL4R0CjfXy1"
      }
    },
    {
      "cell_type": "code",
      "source": [
        "# Creating an array of numbers starting from 1 (including),\n",
        "# ending with 2 (including), containing 11 elements with the equal spacing\n",
        "arr2 = np.linspace(1, 2, 11)\n",
        "\n",
        "# Show the value of the variable\n",
        "arr2"
      ],
      "metadata": {
        "id": "vzUyMnlyfp-Y"
      },
      "execution_count": null,
      "outputs": []
    },
    {
      "cell_type": "markdown",
      "source": [
        "### 4️⃣ Array of .ones()/.zeros()\n",
        "\n",
        "Using methods .ones() and .zeros() you can create an array that contains a given number of ones/zeros"
      ],
      "metadata": {
        "id": "gxwtEJxQgCNR"
      }
    },
    {
      "cell_type": "code",
      "source": [
        "# Creating an array of zeros containing 10 elements\n",
        "arr_zeros = np.zeros(10)\n",
        "\n",
        "# Show the value of the variable\n",
        "arr_zeros"
      ],
      "metadata": {
        "id": "3BfVKu8VgTjA"
      },
      "execution_count": null,
      "outputs": []
    },
    {
      "cell_type": "code",
      "source": [
        "# Creating an array of ones containing 5 elements\n",
        "arr_ones = np.ones(5)\n",
        "\n",
        "# Show the value of the variable\n",
        "arr_ones"
      ],
      "metadata": {
        "id": "c8xOLO6igiU2"
      },
      "execution_count": null,
      "outputs": []
    },
    {
      "cell_type": "markdown",
      "source": [
        "### 5️⃣ Using `random.randint(low, high, length)`\n",
        "\n",
        "\n",
        "This method returns an array of `length` integers that have random values from `low` (including) to `high` (excluding).\n",
        "\n"
      ],
      "metadata": {
        "id": "bSjsB7eygzAW"
      }
    },
    {
      "cell_type": "code",
      "source": [
        "low = 5\n",
        "high = 15\n",
        "length = 10\n",
        "\n",
        "# Creating an array of length random integers between low (including) and high (excluding)\n",
        "randint_arr = np.random.randint (low, high, length)\n",
        "\n",
        "# Show the value of the variable\n",
        "randint_arr"
      ],
      "metadata": {
        "id": "6m5EW_eThdLr"
      },
      "execution_count": null,
      "outputs": []
    },
    {
      "cell_type": "markdown",
      "source": [
        "### 6️⃣ Using `.random.random(length)`\n",
        "\n",
        "This method returns an array of `length` float numbers in the range from 0 (inclusive) to 1 (exclusive)."
      ],
      "metadata": {
        "id": "b2mzTwh_ileo"
      }
    },
    {
      "cell_type": "code",
      "source": [
        "length = 10\n",
        "\n",
        "# Creating an array of length random float numbers between 0 (including) and 1 (excluding)\n",
        "random_arr = np.random.random(length)\n",
        "\n",
        "# Show the value of the variable\n",
        "random_arr"
      ],
      "metadata": {
        "id": "1XdArRqai9cx"
      },
      "execution_count": null,
      "outputs": []
    },
    {
      "cell_type": "markdown",
      "source": [
        "## 🎯 Accessing array elements\n"
      ],
      "metadata": {
        "id": "-pV2R0QZAq9X"
      }
    },
    {
      "cell_type": "markdown",
      "source": [
        "### 1️⃣ Accessing by index"
      ],
      "metadata": {
        "id": "oY8i0e1PBnRo"
      }
    },
    {
      "cell_type": "markdown",
      "source": [
        "You can access array element the same way you did with regular Python Lists using indices."
      ],
      "metadata": {
        "id": "I7guqbYNBDYG"
      }
    },
    {
      "cell_type": "code",
      "source": [
        "arr = np.array([1, 2, 3, 4, 5])\n",
        "\n",
        "arr[0]"
      ],
      "metadata": {
        "colab": {
          "base_uri": "https://localhost:8080/"
        },
        "id": "hVWqUBX0BLvz",
        "outputId": "dc2394ca-5116-42eb-d329-3ebb2e2daf17"
      },
      "execution_count": null,
      "outputs": [
        {
          "output_type": "execute_result",
          "data": {
            "text/plain": [
              "1"
            ]
          },
          "metadata": {},
          "execution_count": 31
        }
      ]
    },
    {
      "cell_type": "code",
      "source": [
        "arr[1]"
      ],
      "metadata": {
        "colab": {
          "base_uri": "https://localhost:8080/"
        },
        "id": "R3ktxs96BUuw",
        "outputId": "f9a3e397-5e13-4bd8-cfed-462c14db12f1"
      },
      "execution_count": null,
      "outputs": [
        {
          "output_type": "execute_result",
          "data": {
            "text/plain": [
              "2"
            ]
          },
          "metadata": {},
          "execution_count": 32
        }
      ]
    },
    {
      "cell_type": "code",
      "source": [
        "arr[2]"
      ],
      "metadata": {
        "colab": {
          "base_uri": "https://localhost:8080/"
        },
        "id": "qY78erfABXZQ",
        "outputId": "fccfa1a8-89a6-4cbc-fbdd-b38dac7fc104"
      },
      "execution_count": null,
      "outputs": [
        {
          "output_type": "execute_result",
          "data": {
            "text/plain": [
              "3"
            ]
          },
          "metadata": {},
          "execution_count": 33
        }
      ]
    },
    {
      "cell_type": "markdown",
      "source": [
        "### 2️⃣ Accessing by index"
      ],
      "metadata": {
        "id": "-PceEKcWBwHP"
      }
    },
    {
      "cell_type": "markdown",
      "source": [
        "It means that you're able to iterate arrays as well."
      ],
      "metadata": {
        "id": "XCxFYtbiBZrd"
      }
    },
    {
      "cell_type": "code",
      "source": [
        "for i in arr:\n",
        "  print(i)"
      ],
      "metadata": {
        "colab": {
          "base_uri": "https://localhost:8080/"
        },
        "id": "XOuSsmqoBet7",
        "outputId": "07042786-bade-4555-8fd3-91dc914a9ffb"
      },
      "execution_count": null,
      "outputs": [
        {
          "output_type": "stream",
          "name": "stdout",
          "text": [
            "1\n",
            "2\n",
            "3\n",
            "4\n",
            "5\n"
          ]
        }
      ]
    },
    {
      "cell_type": "markdown",
      "source": [
        "### 3️⃣ Slicing"
      ],
      "metadata": {
        "id": "c6cu-GbCBzqp"
      }
    },
    {
      "cell_type": "markdown",
      "source": [
        "As accessing by indices works well, it would be reasonable to assume that slicing works too. And that's true"
      ],
      "metadata": {
        "id": "sdrd_ty5B7O3"
      }
    },
    {
      "cell_type": "code",
      "source": [
        "arr = np.array([1, 2, 3, 4, 5])\n",
        "arr[1:4]"
      ],
      "metadata": {
        "colab": {
          "base_uri": "https://localhost:8080/"
        },
        "id": "_r8BPeSWB6S8",
        "outputId": "7b2690ea-ca4a-4ff5-d862-95798854967c"
      },
      "execution_count": null,
      "outputs": [
        {
          "output_type": "execute_result",
          "data": {
            "text/plain": [
              "array([2, 3, 4])"
            ]
          },
          "metadata": {},
          "execution_count": 37
        }
      ]
    },
    {
      "cell_type": "code",
      "source": [
        "arr[2:]"
      ],
      "metadata": {
        "colab": {
          "base_uri": "https://localhost:8080/"
        },
        "id": "vQJoK7q3DuRP",
        "outputId": "bf8f7dc0-1ef3-425d-e11c-09e118e12e70"
      },
      "execution_count": null,
      "outputs": [
        {
          "output_type": "execute_result",
          "data": {
            "text/plain": [
              "array([3, 4, 5])"
            ]
          },
          "metadata": {},
          "execution_count": 38
        }
      ]
    },
    {
      "cell_type": "code",
      "source": [
        "arr[::-1]"
      ],
      "metadata": {
        "id": "hZGYmx8UDx5g",
        "outputId": "7a7f336f-13ee-4d7f-c080-2e1ea29017f1",
        "colab": {
          "base_uri": "https://localhost:8080/"
        }
      },
      "execution_count": null,
      "outputs": [
        {
          "output_type": "execute_result",
          "data": {
            "text/plain": [
              "array([5, 4, 3, 2, 1])"
            ]
          },
          "metadata": {},
          "execution_count": 39
        }
      ]
    },
    {
      "cell_type": "markdown",
      "source": [
        "## Conclusion\n",
        "\n",
        "You got familiar with the various ways of NumPy arrays creation.\n",
        "\n",
        "You're great!🎉\n",
        "\n",
        "So, it's time to go back to the presentation 😉"
      ],
      "metadata": {
        "id": "EzBAxoIQjPVO"
      }
    }
  ]
}