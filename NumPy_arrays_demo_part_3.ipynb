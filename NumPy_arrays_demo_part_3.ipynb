{
  "nbformat": 4,
  "nbformat_minor": 0,
  "metadata": {
    "colab": {
      "provenance": [],
      "include_colab_link": true
    },
    "kernelspec": {
      "name": "python3",
      "display_name": "Python 3"
    },
    "language_info": {
      "name": "python"
    }
  },
  "cells": [
    {
      "cell_type": "markdown",
      "metadata": {
        "id": "view-in-github",
        "colab_type": "text"
      },
      "source": [
        "<a href=\"https://colab.research.google.com/github/duytrung/QuanLyTuyenSinh/blob/main/NumPy_arrays_demo_part_3.ipynb\" target=\"_parent\"><img src=\"https://colab.research.google.com/assets/colab-badge.svg\" alt=\"Open In Colab\"/></a>"
      ]
    },
    {
      "cell_type": "markdown",
      "source": [
        "# NumPy arrays methods\n"
      ],
      "metadata": {
        "id": "GUoyvosVy2k0"
      }
    },
    {
      "cell_type": "markdown",
      "source": [
        "## 🛠️ Import NumPy\n",
        "Before using NumPy, you need to import it"
      ],
      "metadata": {
        "id": "j7UEISnDy9Un"
      }
    },
    {
      "cell_type": "code",
      "source": [
        "import numpy as np"
      ],
      "metadata": {
        "id": "p-AWdi3uy_gG"
      },
      "execution_count": null,
      "outputs": []
    },
    {
      "cell_type": "markdown",
      "source": [
        "## 📃 Introduction\n",
        "\n",
        "NumPy arrays are really powerfull tool. So they have a lot of useful methods included to make different useful calculations and even more.\n",
        "\n",
        "Let's break it down!"
      ],
      "metadata": {
        "id": "oHrDyMv9zBCn"
      }
    },
    {
      "cell_type": "markdown",
      "source": [
        "## 🆘 Asking for help\n",
        "\n",
        "NumPy can help you to remember how to use particular methods. If you forgot something you can use np.info() method giving a particular thing you forgot to get explanation how it works."
      ],
      "metadata": {
        "id": "GEqlhSzb0d4L"
      }
    },
    {
      "cell_type": "code",
      "source": [
        "np.info(np.arange)"
      ],
      "metadata": {
        "colab": {
          "base_uri": "https://localhost:8080/"
        },
        "id": "mKGB3Hs3zYQz",
        "outputId": "75c93bf2-81e2-4b95-9174-32eaff79c891"
      },
      "execution_count": null,
      "outputs": [
        {
          "output_type": "stream",
          "name": "stdout",
          "text": [
            "arange([start,] stop[, step,], dtype=None, *, like=None)\n",
            "\n",
            "Return evenly spaced values within a given interval.\n",
            "\n",
            "``arange`` can be called with a varying number of positional arguments:\n",
            "\n",
            "* ``arange(stop)``: Values are generated within the half-open interval\n",
            "  ``[0, stop)`` (in other words, the interval including `start` but\n",
            "  excluding `stop`).\n",
            "* ``arange(start, stop)``: Values are generated within the half-open\n",
            "  interval ``[start, stop)``.\n",
            "* ``arange(start, stop, step)`` Values are generated within the half-open\n",
            "  interval ``[start, stop)``, with spacing between values given by\n",
            "  ``step``.\n",
            "\n",
            "For integer arguments the function is roughly equivalent to the Python\n",
            "built-in :py:class:`range`, but returns an ndarray rather than a ``range``\n",
            "instance.\n",
            "\n",
            "When using a non-integer step, such as 0.1, it is often better to use\n",
            "`numpy.linspace`.\n",
            "\n",
            "See the Warning sections below for more information.\n",
            "\n",
            "Parameters\n",
            "----------\n",
            "start : integer or real, optional\n",
            "    Start of interval.  The interval includes this value.  The default\n",
            "    start value is 0.\n",
            "stop : integer or real\n",
            "    End of interval.  The interval does not include this value, except\n",
            "    in some cases where `step` is not an integer and floating point\n",
            "    round-off affects the length of `out`.\n",
            "step : integer or real, optional\n",
            "    Spacing between values.  For any output `out`, this is the distance\n",
            "    between two adjacent values, ``out[i+1] - out[i]``.  The default\n",
            "    step size is 1.  If `step` is specified as a position argument,\n",
            "    `start` must also be given.\n",
            "dtype : dtype, optional\n",
            "    The type of the output array.  If `dtype` is not given, infer the data\n",
            "    type from the other input arguments.\n",
            "like : array_like, optional\n",
            "    Reference object to allow the creation of arrays which are not\n",
            "    NumPy arrays. If an array-like passed in as ``like`` supports\n",
            "    the ``__array_function__`` protocol, the result will be defined\n",
            "    by it. In this case, it ensures the creation of an array object\n",
            "    compatible with that passed in via this argument.\n",
            "\n",
            "    .. versionadded:: 1.20.0\n",
            "\n",
            "Returns\n",
            "-------\n",
            "arange : ndarray\n",
            "    Array of evenly spaced values.\n",
            "\n",
            "    For floating point arguments, the length of the result is\n",
            "    ``ceil((stop - start)/step)``.  Because of floating point overflow,\n",
            "    this rule may result in the last element of `out` being greater\n",
            "    than `stop`.\n",
            "\n",
            "Warnings\n",
            "--------\n",
            "The length of the output might not be numerically stable.\n",
            "\n",
            "Another stability issue is due to the internal implementation of\n",
            "`numpy.arange`.\n",
            "The actual step value used to populate the array is\n",
            "``dtype(start + step) - dtype(start)`` and not `step`. Precision loss\n",
            "can occur here, due to casting or due to using floating points when\n",
            "`start` is much larger than `step`. This can lead to unexpected\n",
            "behaviour. For example::\n",
            "\n",
            "  >>> np.arange(0, 5, 0.5, dtype=int)\n",
            "  array([0, 0, 0, 0, 0, 0, 0, 0, 0, 0])\n",
            "  >>> np.arange(-3, 3, 0.5, dtype=int)\n",
            "  array([-3, -2, -1,  0,  1,  2,  3,  4,  5,  6,  7,  8])\n",
            "\n",
            "In such cases, the use of `numpy.linspace` should be preferred.\n",
            "\n",
            "The built-in :py:class:`range` generates :std:doc:`Python built-in integers\n",
            "that have arbitrary size <python:c-api/long>`, while `numpy.arange`\n",
            "produces `numpy.int32` or `numpy.int64` numbers. This may result in\n",
            "incorrect results for large integer values::\n",
            "\n",
            "  >>> power = 40\n",
            "  >>> modulo = 10000\n",
            "  >>> x1 = [(n ** power) % modulo for n in range(8)]\n",
            "  >>> x2 = [(n ** power) % modulo for n in np.arange(8)]\n",
            "  >>> print(x1)\n",
            "  [0, 1, 7776, 8801, 6176, 625, 6576, 4001]  # correct\n",
            "  >>> print(x2)\n",
            "  [0, 1, 7776, 7185, 0, 5969, 4816, 3361]  # incorrect\n",
            "\n",
            "See Also\n",
            "--------\n",
            "numpy.linspace : Evenly spaced numbers with careful handling of endpoints.\n",
            "numpy.ogrid: Arrays of evenly spaced numbers in N-dimensions.\n",
            "numpy.mgrid: Grid-shaped arrays of evenly spaced numbers in N-dimensions.\n",
            ":ref:`how-to-partition`\n",
            "\n",
            "Examples\n",
            "--------\n",
            ">>> np.arange(3)\n",
            "array([0, 1, 2])\n",
            ">>> np.arange(3.0)\n",
            "array([ 0.,  1.,  2.])\n",
            ">>> np.arange(3,7)\n",
            "array([3, 4, 5, 6])\n",
            ">>> np.arange(3,7,2)\n",
            "array([3, 5])\n"
          ]
        }
      ]
    },
    {
      "cell_type": "markdown",
      "source": [
        "## 🔢 Maths and statistics"
      ],
      "metadata": {
        "id": "MVNMvDyZ0OG7"
      }
    },
    {
      "cell_type": "markdown",
      "source": [
        "Let's create an array we will use for calculations:"
      ],
      "metadata": {
        "id": "oIWIe-VO1M7R"
      }
    },
    {
      "cell_type": "code",
      "source": [
        "arr = np.array([2, 1, 4, 5, 3, 10, 6, 8, 7, 9])"
      ],
      "metadata": {
        "id": "Qilpames1S51"
      },
      "execution_count": null,
      "outputs": []
    },
    {
      "cell_type": "markdown",
      "source": [
        "### 1️⃣ Sum and Size"
      ],
      "metadata": {
        "id": "BkmHQ25D1jdX"
      }
    },
    {
      "cell_type": "code",
      "source": [
        "arr_size = arr.size\n",
        "\n",
        "arr_size"
      ],
      "metadata": {
        "colab": {
          "base_uri": "https://localhost:8080/"
        },
        "id": "oKf8519H1nzU",
        "outputId": "efe41a32-8af4-48a8-b7ab-e248942e335b"
      },
      "execution_count": null,
      "outputs": [
        {
          "output_type": "execute_result",
          "data": {
            "text/plain": [
              "10"
            ]
          },
          "metadata": {},
          "execution_count": 42
        }
      ]
    },
    {
      "cell_type": "markdown",
      "source": [
        "**⚠️ Pay attention!**\n",
        "\n",
        "As `.size` is not a method, but attribute, you don't need to put braces after this"
      ],
      "metadata": {
        "id": "nhFhg4Rk2Jf8"
      }
    },
    {
      "cell_type": "code",
      "source": [
        "arr_sum = np.sum(arr)\n",
        "\n",
        "arr_sum"
      ],
      "metadata": {
        "colab": {
          "base_uri": "https://localhost:8080/"
        },
        "id": "j663a1uH2cRb",
        "outputId": "0b4d7fc4-5f9b-41d3-ed70-e2f96f674a26"
      },
      "execution_count": null,
      "outputs": [
        {
          "output_type": "execute_result",
          "data": {
            "text/plain": [
              "55"
            ]
          },
          "metadata": {},
          "execution_count": 43
        }
      ]
    },
    {
      "cell_type": "markdown",
      "source": [
        "If you need just to see the sum (or size) but not to use it in the future, you can just calculate it not storing a result in a variable"
      ],
      "metadata": {
        "id": "8FsDYUVV2lm2"
      }
    },
    {
      "cell_type": "code",
      "source": [
        "np.sum(arr)"
      ],
      "metadata": {
        "colab": {
          "base_uri": "https://localhost:8080/"
        },
        "id": "a3Lv8w1R2289",
        "outputId": "12bca419-afd5-4117-f5dd-d49c21a9a1b2"
      },
      "execution_count": null,
      "outputs": [
        {
          "output_type": "execute_result",
          "data": {
            "text/plain": [
              "55"
            ]
          },
          "metadata": {},
          "execution_count": 44
        }
      ]
    },
    {
      "cell_type": "markdown",
      "source": [
        "### 2️⃣ Max and Min"
      ],
      "metadata": {
        "id": "xBe5-fL03K2X"
      }
    },
    {
      "cell_type": "code",
      "source": [
        "max_val = np.max(arr)\n",
        "\n",
        "max_val"
      ],
      "metadata": {
        "colab": {
          "base_uri": "https://localhost:8080/"
        },
        "id": "FrZIOWj-3XGH",
        "outputId": "44f760bf-34c9-44f9-8db7-1483e87598b8"
      },
      "execution_count": null,
      "outputs": [
        {
          "output_type": "execute_result",
          "data": {
            "text/plain": [
              "10"
            ]
          },
          "metadata": {},
          "execution_count": 45
        }
      ]
    },
    {
      "cell_type": "code",
      "source": [
        "min_val = np.min(arr)\n",
        "\n",
        "min_val"
      ],
      "metadata": {
        "colab": {
          "base_uri": "https://localhost:8080/"
        },
        "id": "gbVkZKaL3dsd",
        "outputId": "d52250c5-6865-4d1c-e934-33ef9071ef63"
      },
      "execution_count": null,
      "outputs": [
        {
          "output_type": "execute_result",
          "data": {
            "text/plain": [
              "1"
            ]
          },
          "metadata": {},
          "execution_count": 46
        }
      ]
    },
    {
      "cell_type": "markdown",
      "source": [
        "Or just calculating (as we discussed before)"
      ],
      "metadata": {
        "id": "QA6f3UlL3hyr"
      }
    },
    {
      "cell_type": "code",
      "source": [
        "np.max(arr)"
      ],
      "metadata": {
        "colab": {
          "base_uri": "https://localhost:8080/"
        },
        "id": "B_XMghbo3mU6",
        "outputId": "64995c21-9abc-453d-cc62-f763bd846460"
      },
      "execution_count": null,
      "outputs": [
        {
          "output_type": "execute_result",
          "data": {
            "text/plain": [
              "10"
            ]
          },
          "metadata": {},
          "execution_count": 47
        }
      ]
    },
    {
      "cell_type": "markdown",
      "source": [
        "### 3️⃣ Max and Min indices\n",
        "\n",
        "![execute a code cell](https://drive.google.com/uc?id=1Nb-mESpSpI7PyVKZzv2L7Hd5MbmfXFRo)"
      ],
      "metadata": {
        "id": "rq_aRxEy3qGP"
      }
    },
    {
      "cell_type": "code",
      "source": [
        "max_index = np.argmax(arr)\n",
        "max_index"
      ],
      "metadata": {
        "colab": {
          "base_uri": "https://localhost:8080/"
        },
        "id": "tFcx0rdr3xz_",
        "outputId": "46895695-c793-4c06-eacd-7e70161af8f2"
      },
      "execution_count": null,
      "outputs": [
        {
          "output_type": "execute_result",
          "data": {
            "text/plain": [
              "5"
            ]
          },
          "metadata": {},
          "execution_count": 48
        }
      ]
    },
    {
      "cell_type": "code",
      "source": [
        "min_index = np.argmin(arr)\n",
        "min_index"
      ],
      "metadata": {
        "colab": {
          "base_uri": "https://localhost:8080/"
        },
        "id": "S11y0AUI31NY",
        "outputId": "6478e0a9-8e9c-4616-c887-e3b1876707ff"
      },
      "execution_count": null,
      "outputs": [
        {
          "output_type": "execute_result",
          "data": {
            "text/plain": [
              "1"
            ]
          },
          "metadata": {},
          "execution_count": 49
        }
      ]
    },
    {
      "cell_type": "markdown",
      "source": [
        "... or without storing"
      ],
      "metadata": {
        "id": "uiyBUo8f8mtV"
      }
    },
    {
      "cell_type": "code",
      "source": [
        "np.max(arr)"
      ],
      "metadata": {
        "colab": {
          "base_uri": "https://localhost:8080/"
        },
        "id": "3jM4iu7L8oc8",
        "outputId": "0f751644-9112-439e-dbe9-b2144a1f391d"
      },
      "execution_count": null,
      "outputs": [
        {
          "output_type": "execute_result",
          "data": {
            "text/plain": [
              "10"
            ]
          },
          "metadata": {},
          "execution_count": 50
        }
      ]
    },
    {
      "cell_type": "markdown",
      "source": [
        "### 4️⃣ Mean (average value) and Median"
      ],
      "metadata": {
        "id": "hrjRwIiy61r8"
      }
    },
    {
      "cell_type": "code",
      "source": [
        "mean = np.mean(arr)\n",
        "mean"
      ],
      "metadata": {
        "colab": {
          "base_uri": "https://localhost:8080/"
        },
        "id": "7EtBNLHq7LZX",
        "outputId": "164ac7eb-316c-404f-a642-aaf84ab32541"
      },
      "execution_count": null,
      "outputs": [
        {
          "output_type": "execute_result",
          "data": {
            "text/plain": [
              "5.5"
            ]
          },
          "metadata": {},
          "execution_count": 51
        }
      ]
    },
    {
      "cell_type": "code",
      "source": [
        "median = np.median(arr)\n",
        "median"
      ],
      "metadata": {
        "colab": {
          "base_uri": "https://localhost:8080/"
        },
        "id": "KfPfl68G7UeB",
        "outputId": "39430a5c-eb93-48e3-e445-203bf207f89a"
      },
      "execution_count": null,
      "outputs": [
        {
          "output_type": "execute_result",
          "data": {
            "text/plain": [
              "5.5"
            ]
          },
          "metadata": {},
          "execution_count": 52
        }
      ]
    },
    {
      "cell_type": "markdown",
      "source": [
        "### 📶 Sorting NumPy arrays"
      ],
      "metadata": {
        "id": "eS16YMbq9KCa"
      }
    },
    {
      "cell_type": "code",
      "source": [
        "sorted_arr = np.sort(arr)\n",
        "sorted_arr"
      ],
      "metadata": {
        "colab": {
          "base_uri": "https://localhost:8080/"
        },
        "id": "-8utlnV-9sFm",
        "outputId": "a61ef054-7b88-41e8-d5f8-192868b078f5"
      },
      "execution_count": null,
      "outputs": [
        {
          "output_type": "execute_result",
          "data": {
            "text/plain": [
              "array([ 1,  2,  3,  4,  5,  6,  7,  8,  9, 10])"
            ]
          },
          "metadata": {},
          "execution_count": 57
        }
      ]
    },
    {
      "cell_type": "markdown",
      "source": [
        "**⚠️ Pay attention!**\n",
        "\n",
        "The np.sort() methods returns sorted array but does not change the source array.\n",
        "\n",
        "You can check it trying to show the source array, it is still not sorted."
      ],
      "metadata": {
        "id": "ZnYxxmF1-IQ9"
      }
    },
    {
      "cell_type": "code",
      "source": [
        "arr"
      ],
      "metadata": {
        "colab": {
          "base_uri": "https://localhost:8080/"
        },
        "id": "P-hpW77T-aMf",
        "outputId": "05a01fe8-1e9f-4bb9-807d-c81239047658"
      },
      "execution_count": null,
      "outputs": [
        {
          "output_type": "execute_result",
          "data": {
            "text/plain": [
              "array([ 2,  1,  4,  5,  3, 10,  6,  8,  7,  9])"
            ]
          },
          "metadata": {},
          "execution_count": 54
        }
      ]
    },
    {
      "cell_type": "markdown",
      "source": [
        "But the variables storing the result of the np.sort() contains the sorted version of the source array."
      ],
      "metadata": {
        "id": "Lp8AgyHU-fC8"
      }
    },
    {
      "cell_type": "code",
      "source": [
        "sorted_arr"
      ],
      "metadata": {
        "colab": {
          "base_uri": "https://localhost:8080/"
        },
        "id": "4QtVKqV0-em3",
        "outputId": "34a058bf-ca01-465b-f8ed-d7849691df53"
      },
      "execution_count": null,
      "outputs": [
        {
          "output_type": "execute_result",
          "data": {
            "text/plain": [
              "array([ 1,  2,  3,  4,  5,  6,  7,  8,  9, 10])"
            ]
          },
          "metadata": {},
          "execution_count": 58
        }
      ]
    },
    {
      "cell_type": "markdown",
      "source": [
        "## Conclusion\n",
        "\n",
        "You got familiar with the most basic but useful methods of NumPy arrays.\n",
        "\n",
        "You're great!🎉\n",
        "\n",
        "So, it's time to go back to the presentation 😉"
      ],
      "metadata": {
        "id": "1gSbuNwe_b5u"
      }
    }
  ]
}