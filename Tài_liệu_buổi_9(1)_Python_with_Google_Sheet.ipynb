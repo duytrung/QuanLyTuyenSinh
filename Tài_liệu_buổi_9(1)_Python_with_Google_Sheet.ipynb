{
  "nbformat": 4,
  "nbformat_minor": 0,
  "metadata": {
    "colab": {
      "provenance": [],
      "include_colab_link": true
    },
    "kernelspec": {
      "name": "python3",
      "display_name": "Python 3"
    },
    "language_info": {
      "name": "python"
    }
  },
  "cells": [
    {
      "cell_type": "markdown",
      "metadata": {
        "id": "view-in-github",
        "colab_type": "text"
      },
      "source": [
        "<a href=\"https://colab.research.google.com/github/duytrung/QuanLyTuyenSinh/blob/main/T%C3%A0i_li%E1%BB%87u_bu%E1%BB%95i_9(1)_Python_with_Google_Sheet.ipynb\" target=\"_parent\"><img src=\"https://colab.research.google.com/assets/colab-badge.svg\" alt=\"Open In Colab\"/></a>"
      ]
    },
    {
      "cell_type": "markdown",
      "source": [
        "# **📝 Google Sheets Editor with Streamlit - Giải Thích Chi Tiết**"
      ],
      "metadata": {
        "id": "07Lr7gUzOCjK"
      }
    },
    {
      "cell_type": "markdown",
      "source": [
        "**🖥️ Source code:** https://github.com/riodev1310/python_automation_scripts/blob/main/google_sheet.py"
      ],
      "metadata": {
        "id": "86KOYX6NWV8e"
      }
    },
    {
      "cell_type": "markdown",
      "source": [
        "## **🚀 Giới Thiệu**"
      ],
      "metadata": {
        "id": "kynYO3dwOw5X"
      }
    },
    {
      "cell_type": "markdown",
      "source": [
        "Chương trình này sử dụng `Streamlit` để tạo giao diện chỉnh sửa Google Sheets. Nó kết nối với Google Sheets API thông qua `gspread` và xác thực bằng `google.oauth2.service_account.Credentials`. Chương trình cung cấp các chức năng như tải dữ liệu từ Google Sheets, tìm kiếm, cập nhật, xóa và thêm dữ liệu mới."
      ],
      "metadata": {
        "id": "KIYskOWXO0NL"
      }
    },
    {
      "cell_type": "markdown",
      "source": [
        "## **1. 🔧 Cấu hình Google Sheets API**"
      ],
      "metadata": {
        "id": "CZVCkPwlPU3E"
      }
    },
    {
      "cell_type": "code",
      "source": [
        "import streamlit as st\n",
        "import pandas as pd\n",
        "import gspread\n",
        "from google.oauth2.service_account import Credentials"
      ],
      "metadata": {
        "id": "id2gombkOv2B"
      },
      "execution_count": null,
      "outputs": []
    },
    {
      "cell_type": "markdown",
      "source": [
        "📌 Import thư viện cần thiết:\n",
        "\n",
        "+ `streamlit`: Tạo giao diện người dùng.\n",
        "\n",
        "+ `pandas`: Xử lý dữ liệu dạng bảng.\n",
        "\n",
        "+ `gspread`: Làm việc với Google Sheets API.\n",
        "\n",
        "+ `Credentials từ google.oauth2.service_account`: Xác thực với Google Sheets."
      ],
      "metadata": {
        "id": "Iqnewa_9PcJJ"
      }
    },
    {
      "cell_type": "code",
      "execution_count": null,
      "metadata": {
        "id": "n84p7u8kN-QC"
      },
      "outputs": [],
      "source": [
        "creds = Credentials.from_service_account_file(\"google_sheet_key.json\", scopes=[\"https://www.googleapis.com/auth/spreadsheets\"])"
      ]
    },
    {
      "cell_type": "markdown",
      "source": [
        "🔑 Đọc thông tin xác thực từ file JSON để kết nối với Google Sheets API.\n",
        "\n",
        "🔍 scopes: Quyền truy cập vào Google Sheets."
      ],
      "metadata": {
        "id": "JcRUO1HqPnbJ"
      }
    },
    {
      "cell_type": "code",
      "source": [
        "client = gspread.authorize(creds)"
      ],
      "metadata": {
        "id": "IDZSl1_LPput"
      },
      "execution_count": null,
      "outputs": []
    },
    {
      "cell_type": "markdown",
      "source": [
        "🔗 Sử dụng gspread để tạo kết nối với Google Sheets."
      ],
      "metadata": {
        "id": "jD5SFIv1PzUW"
      }
    },
    {
      "cell_type": "code",
      "source": [],
      "metadata": {
        "id": "XiySrssDPz9Y"
      },
      "execution_count": null,
      "outputs": []
    },
    {
      "cell_type": "markdown",
      "source": [
        "## **2. 📊 Hàm Tương Tác với Google Sheets**"
      ],
      "metadata": {
        "id": "uUvKkedBP2xK"
      }
    },
    {
      "cell_type": "markdown",
      "source": [
        "### **2.1. 📥 Hàm Lấy Dữ Liệu**"
      ],
      "metadata": {
        "id": "Ko6cv8HqP6ug"
      }
    },
    {
      "cell_type": "code",
      "source": [
        "def get_sheet(SHEET_ID, SHEET_NAME):\n",
        "    sheet = client.open_by_key(SHEET_ID).worksheet(SHEET_NAME)\n",
        "    data = sheet.get_all_records()\n",
        "    return pd.DataFrame(data) if data else pd.DataFrame()"
      ],
      "metadata": {
        "id": "wf1zq_pKP4HY"
      },
      "execution_count": null,
      "outputs": []
    },
    {
      "cell_type": "markdown",
      "source": [
        "📄 Mở Google Sheet dựa trên SHEET_ID và lấy worksheet theo SHEET_NAME.\n",
        "\n",
        "🔄 Lấy toàn bộ dữ liệu dưới dạng danh sách từ Google Sheets.\n",
        "\n",
        "📑 Chuyển dữ liệu thành DataFrame của pandas để dễ xử lý."
      ],
      "metadata": {
        "id": "13Vx41FgP-Ho"
      }
    },
    {
      "cell_type": "markdown",
      "source": [
        "### **2.2. 💾 Hàm Lưu Dữ Liệu**"
      ],
      "metadata": {
        "id": "OrKr9e9-QDlF"
      }
    },
    {
      "cell_type": "code",
      "source": [
        "def save_to_sheet(df, SHEET_ID, SHEET_NAME):\n",
        "    sheet = client.open_by_key(SHEET_ID).worksheet(SHEET_NAME)\n",
        "    sheet.clear()\n",
        "    sheet.update([df.columns.values.tolist()] + df.values.tolist())"
      ],
      "metadata": {
        "id": "Xrr6NiWtQATr"
      },
      "execution_count": null,
      "outputs": []
    },
    {
      "cell_type": "markdown",
      "source": [
        "❌ Xóa toàn bộ dữ liệu cũ (sheet.clear()).\n",
        "\n",
        "✅ Ghi dữ liệu mới từ DataFrame vào Google Sheets."
      ],
      "metadata": {
        "id": "WafqZxaaQJBi"
      }
    },
    {
      "cell_type": "markdown",
      "source": [
        "### **2.3. 🔎 Hàm Tìm Kiếm**"
      ],
      "metadata": {
        "id": "QR21rwdAQPQu"
      }
    },
    {
      "cell_type": "code",
      "source": [
        "def search_data(df, column, query):\n",
        "    return df[df[column].astype(str).str.contains(str(query), case=False, na=False)]"
      ],
      "metadata": {
        "id": "TKclapAkQLIg"
      },
      "execution_count": null,
      "outputs": []
    },
    {
      "cell_type": "markdown",
      "source": [
        "🔍 Tìm kiếm giá trị query trong column.\n",
        "\n",
        "🔄 Chuyển tất cả dữ liệu về kiểu chuỗi (astype(str)) để tránh lỗi.\n",
        "\n",
        "🔠 case=False: Không phân biệt chữ hoa/thường.\n",
        "\n",
        "🚫 na=False: Xử lý giá trị thiếu (NaN)."
      ],
      "metadata": {
        "id": "XRsVPo4-QS94"
      }
    },
    {
      "cell_type": "markdown",
      "source": [
        "### **2.4. 🗑️ Hàm Xóa Dữ Liệu**"
      ],
      "metadata": {
        "id": "eMZiWr-KQYNA"
      }
    },
    {
      "cell_type": "code",
      "source": [
        "def delete_searched_data(df, column, query, SHEET_ID, SHEET_NAME):\n",
        "    df = df[~df[column].astype(str).str.contains(str(query), case=False, na=False)]\n",
        "    save_to_sheet(df, SHEET_ID, SHEET_NAME)\n",
        "    return df"
      ],
      "metadata": {
        "id": "pt7VAWZGQVl3"
      },
      "execution_count": null,
      "outputs": []
    },
    {
      "cell_type": "markdown",
      "source": [
        "❌ Lọc ra những hàng không khớp với giá trị tìm kiếm (~ là phủ định).\n",
        "\n",
        "📂 Lưu lại dữ liệu đã cập nhật vào Google Sheets."
      ],
      "metadata": {
        "id": "bl2ChCMCQdJ4"
      }
    },
    {
      "cell_type": "markdown",
      "source": [
        "### **2.5. ✏️ Hàm Cập Nhật Dữ Liệu**"
      ],
      "metadata": {
        "id": "4cHxf-XHQfjv"
      }
    },
    {
      "cell_type": "code",
      "source": [
        "def update_data_by_column(df, search_column, search_value, update_column, new_value, SHEET_ID, SHEET_NAME):\n",
        "    mask = df[search_column].astype(str).str.contains(str(search_value), na=False)\n",
        "    if not mask.any():\n",
        "        st.warning(\"No matching records found to update.\")\n",
        "        return False, df\n",
        "    df.loc[mask, update_column] = convert_value(new_value, df[update_column].dtype)\n",
        "    save_to_sheet(df, SHEET_ID, SHEET_NAME)\n",
        "    return True, df"
      ],
      "metadata": {
        "id": "7hYrd_HhQqu3"
      },
      "execution_count": null,
      "outputs": []
    },
    {
      "cell_type": "markdown",
      "source": [
        "🔍 Tìm các hàng chứa search_value.\n",
        "\n",
        "⚠️ Nếu không có kết quả, hiển thị cảnh báo.\n",
        "\n",
        "✏️ Cập nhật giá trị của update_column.\n",
        "\n",
        "📂 Lưu dữ liệu cập nhật vào Google Sheets."
      ],
      "metadata": {
        "id": "WvT2G-gQQm-k"
      }
    },
    {
      "cell_type": "markdown",
      "source": [
        "## **3. 🖥️ Xây Dựng Giao Diện Streamlit**"
      ],
      "metadata": {
        "id": "C9F3rKWFQwLH"
      }
    },
    {
      "cell_type": "code",
      "source": [
        "st.title(\"📊 Google Sheets Editor with Streamlit\")"
      ],
      "metadata": {
        "id": "tYkCbJ-pQkX1"
      },
      "execution_count": null,
      "outputs": []
    },
    {
      "cell_type": "markdown",
      "source": [
        "🎯 Hiển thị tiêu đề ứng dụng."
      ],
      "metadata": {
        "id": "JEYE5QAuQ0rC"
      }
    },
    {
      "cell_type": "markdown",
      "source": [
        "### **3.1. 📝 Nhập Thông Tin Google Sheets**"
      ],
      "metadata": {
        "id": "etFkPvlfQ5Jj"
      }
    },
    {
      "cell_type": "code",
      "source": [
        "SHEET_ID = st.text_input(\"Enter sheet's ID: \")\n",
        "SHEET_NAME = st.text_input(\"Enter sheet's name: \")"
      ],
      "metadata": {
        "id": "D8OsmSlIQ2zd"
      },
      "execution_count": null,
      "outputs": []
    },
    {
      "cell_type": "markdown",
      "source": [
        "⌨️ Nhập SHEET_ID và SHEET_NAME từ người dùng."
      ],
      "metadata": {
        "id": "5TpS43KGRAGu"
      }
    },
    {
      "cell_type": "markdown",
      "source": [
        "### **3.2. 📃 Hiển Thị Dữ Liệu**"
      ],
      "metadata": {
        "id": "yB4jfCfgRCjY"
      }
    },
    {
      "cell_type": "code",
      "source": [
        "if SHEET_ID and SHEET_NAME:\n",
        "    df = get_sheet(SHEET_ID, SHEET_NAME)\n",
        "    if df.empty:\n",
        "        st.warning(\"No data found in Google Sheet.\")\n",
        "    else:\n",
        "        st.dataframe(df)"
      ],
      "metadata": {
        "id": "beirs7URRAst"
      },
      "execution_count": null,
      "outputs": []
    },
    {
      "cell_type": "markdown",
      "source": [
        "⌨️ Nhập SHEET_ID và SHEET_NAME từ người dùng."
      ],
      "metadata": {
        "id": "0jJ_N-DjRGsz"
      }
    },
    {
      "cell_type": "markdown",
      "source": [
        "### **3.2. 📃 Hiển Thị Dữ Liệu**"
      ],
      "metadata": {
        "id": "7RP3HWzJRJHj"
      }
    },
    {
      "cell_type": "code",
      "source": [
        "if SHEET_ID and SHEET_NAME:\n",
        "    df = get_sheet(SHEET_ID, SHEET_NAME)\n",
        "    if df.empty:\n",
        "        st.warning(\"No data found in Google Sheet.\")\n",
        "    else:\n",
        "        st.dataframe(df)"
      ],
      "metadata": {
        "id": "0N0u3yvCRNPu"
      },
      "execution_count": null,
      "outputs": []
    },
    {
      "cell_type": "markdown",
      "source": [
        "📊 Nếu có ID và tên sheet, tải dữ liệu lên.\n",
        "\n",
        "⚠️ Hiển thị cảnh báo nếu không có dữ liệu."
      ],
      "metadata": {
        "id": "hcL0n4JrRST5"
      }
    },
    {
      "cell_type": "markdown",
      "source": [
        "## **📌 Tổng Kết**"
      ],
      "metadata": {
        "id": "CwnutY4PRVHO"
      }
    },
    {
      "cell_type": "markdown",
      "source": [
        "📌 Ứng dụng này giúp thao tác với Google Sheets một cách dễ dàng thông qua Streamlit, hỗ trợ tìm kiếm, chỉnh sửa, xóa và cập nhật dữ liệu. Nó có thể mở rộng để xử lý nhiều tập dữ liệu phức tạp hơn."
      ],
      "metadata": {
        "id": "ghdoZD52RXJI"
      }
    }
  ]
}