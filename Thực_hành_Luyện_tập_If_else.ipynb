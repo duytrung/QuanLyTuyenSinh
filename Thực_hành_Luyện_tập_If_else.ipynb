{
  "nbformat": 4,
  "nbformat_minor": 0,
  "metadata": {
    "colab": {
      "provenance": [],
      "include_colab_link": true
    },
    "kernelspec": {
      "name": "python3",
      "display_name": "Python 3"
    },
    "language_info": {
      "name": "python"
    }
  },
  "cells": [
    {
      "cell_type": "markdown",
      "metadata": {
        "id": "view-in-github",
        "colab_type": "text"
      },
      "source": [
        "<a href=\"https://colab.research.google.com/github/duytrung/QuanLyTuyenSinh/blob/main/Th%E1%BB%B1c_h%C3%A0nh_Luy%E1%BB%87n_t%E1%BA%ADp_If_else.ipynb\" target=\"_parent\"><img src=\"https://colab.research.google.com/assets/colab-badge.svg\" alt=\"Open In Colab\"/></a>"
      ]
    },
    {
      "cell_type": "markdown",
      "source": [
        "# **Bài tập trên lớp**"
      ],
      "metadata": {
        "id": "o_6KzsX-PhgR"
      }
    },
    {
      "cell_type": "markdown",
      "source": [
        "### **1) Đánh Giá Tình Hình Tài Chính (Profit or Loss)**"
      ],
      "metadata": {
        "id": "0ByVjFSdH-Y9"
      }
    },
    {
      "cell_type": "markdown",
      "source": [
        "Doanh nghiệp A có doanh thu là 120,000 USD và tổng chi phí là 130,000 USD. Viết chương trình Python để:\n",
        "\n",
        "Kiểm tra xem doanh nghiệp có lãi hay lỗ.\n",
        "Hiển thị kết quả:\n",
        "+ \"Lãi: Số tiền lãi là X USD\" nếu doanh thu lớn hơn chi phí.\n",
        "+ \"Lỗ: Số tiền lỗ là X USD\" nếu chi phí lớn hơn doanh thu."
      ],
      "metadata": {
        "id": "XpGyuAoZIfzK"
      }
    },
    {
      "cell_type": "code",
      "execution_count": null,
      "metadata": {
        "id": "f3avG5nwH5y7"
      },
      "outputs": [],
      "source": []
    },
    {
      "cell_type": "markdown",
      "source": [
        "### **2) Xác Định Điều Kiện Cho Vay**"
      ],
      "metadata": {
        "id": "cfCE1xfPI8CV"
      }
    },
    {
      "cell_type": "markdown",
      "source": [
        "Ngân hàng cần quyết định xem một khách hàng có được vay tiền hay không dựa trên các điều kiện sau:\n",
        "\n",
        "+ Thu nhập hàng tháng phải lớn hơn hoặc bằng 100,000,000 VND.\n",
        "+ Không có khoản nợ hiện tại.\n",
        "\n",
        "Hãy viết chương trình:\n",
        "\n",
        "+ Nhập thu nhập hàng tháng của khách hàng.\n",
        "+ Nhập thông tin \"Có nợ hiện tại không?\" (có thể là Yes hoặc No).\n",
        "\n",
        "Sử dụng if-else để hiển thị:\n",
        "+ **\"Được vay\"** nếu khách hàng đáp ứng cả hai điều kiện.\n",
        "+ **\"Không được vay\"** nếu không đáp ứng."
      ],
      "metadata": {
        "id": "zaVGYmtpJHuq"
      }
    },
    {
      "cell_type": "code",
      "source": [],
      "metadata": {
        "id": "8uOl3GkrJoq2"
      },
      "execution_count": null,
      "outputs": []
    },
    {
      "cell_type": "markdown",
      "source": [
        "### **3) Tính thuế thu nhập cá nhân**"
      ],
      "metadata": {
        "id": "JbJPvENXIlbQ"
      }
    },
    {
      "cell_type": "markdown",
      "source": [
        "Đề bài:\n",
        "Một người có thu nhập hàng tháng T. Tính số thuế thu nhập cá nhân phải nộp theo bảng sau:\n",
        "\n",
        "+ Thu nhập ≤ 10 triệu: Thuế 5%.\n",
        "\n",
        "+ Thu nhập từ 10 - 20 triệu: Thuế 10%.\n",
        "\n",
        "+ Thu nhập > 20 triệu: Thuế 15%.\n",
        "\n",
        "+ Input: Thu nhập T.\n",
        "\n",
        "+ Output: Số thuế phải nộp."
      ],
      "metadata": {
        "id": "V864AHY_IuSp"
      }
    },
    {
      "cell_type": "code",
      "source": [],
      "metadata": {
        "id": "SugBP-qlIr5E"
      },
      "execution_count": null,
      "outputs": []
    },
    {
      "cell_type": "markdown",
      "source": [
        "### **4) Tính lãi suất tiền gửi**"
      ],
      "metadata": {
        "id": "IFcxnQizMbh6"
      }
    },
    {
      "cell_type": "markdown",
      "source": [
        "Đề bài:\n",
        "Người dùng gửi tiết kiệm ngân hàng với số tiền P và thời hạn gửi. Lãi suất thay đổi dựa trên thời hạn:\n",
        "\n",
        "+ Nếu ≤ 6 tháng: Lãi suất 4%/năm.\n",
        "+ Nếu > 6 tháng và ≤ 12 tháng: Lãi suất 5%/năm.\n",
        "+ Nếu > 12 tháng: Lãi suất 6%/năm.\n",
        "\n",
        "Tính tổng số tiền sau khi hết kỳ hạn gửi tiết kiệm.\n",
        "\n",
        "Input: Số tiền gửi P, thời hạn gửi (tháng).\n",
        "\n",
        "Output: Tổng số tiền sau khi gửi."
      ],
      "metadata": {
        "id": "Zqbxanq5M04l"
      }
    },
    {
      "cell_type": "code",
      "source": [],
      "metadata": {
        "id": "ElLre5qdNG2M"
      },
      "execution_count": null,
      "outputs": []
    },
    {
      "cell_type": "markdown",
      "source": [
        "### **5) Kiểm tra tín dụng**"
      ],
      "metadata": {
        "id": "XeaXHbRqNTVz"
      }
    },
    {
      "cell_type": "markdown",
      "source": [
        "Đề bài:\n",
        "Ngân hàng quyết định cấp tín dụng cho khách hàng dựa trên các điều kiện:\n",
        "\n",
        "+ Nếu khách hàng có thu nhập > 15 triệu và không có nợ xấu, kết quả là \"Được duyệt\".\n",
        "\n",
        "+ Nếu thu nhập ≤ 15 triệu nhưng không có nợ xấu, kết quả là \"Cần xem xét\".\n",
        "\n",
        "+ Nếu có nợ xấu, kết quả là \"Không được duyệt\".\n",
        "\n",
        "Input: Thu nhập T, trạng thái nợ xấu (Yes/No).\n",
        "\n",
        "Output: Kết quả duyệt tín dụng."
      ],
      "metadata": {
        "id": "eUpGdldOOMFm"
      }
    },
    {
      "cell_type": "code",
      "source": [],
      "metadata": {
        "id": "NVnhgz-6PCwC"
      },
      "execution_count": null,
      "outputs": []
    },
    {
      "cell_type": "markdown",
      "source": [
        "# **Bài tập về nhà**"
      ],
      "metadata": {
        "id": "0aji6mosPSrb"
      }
    },
    {
      "cell_type": "markdown",
      "source": [
        "### **1) Tính Thưởng Cuối Năm**"
      ],
      "metadata": {
        "id": "S1PoecLSJpfP"
      }
    },
    {
      "cell_type": "markdown",
      "source": [
        "Công ty B có chính sách thưởng cuối năm như sau:\n",
        "\n",
        "+ Nếu doanh thu vượt mức 1,000,000 USD, thưởng 5% trên doanh thu.\n",
        "+ Nếu doanh thu từ 500,000 đến 1,000,000 USD, thưởng 3% trên doanh thu.\n",
        "+ Nếu doanh thu dưới 500,000 USD, không có thưởng.\n",
        "\n",
        "Viết chương trình Python:\n",
        "\n",
        "+ Nhập doanh thu từ người dùng.\n",
        "+ Sử dụng if-else để tính tiền thưởng và hiển thị kết quả."
      ],
      "metadata": {
        "id": "krN7dzDzJyRK"
      }
    },
    {
      "cell_type": "code",
      "source": [],
      "metadata": {
        "id": "GQrU8aP5Jx3E"
      },
      "execution_count": null,
      "outputs": []
    },
    {
      "cell_type": "markdown",
      "source": [
        "### **2) Phân Loại Lợi Nhuận** (BTVN)"
      ],
      "metadata": {
        "id": "xHashPeKJ7-u"
      }
    },
    {
      "cell_type": "markdown",
      "source": [
        "Một công ty muốn phân loại lợi nhuận như sau:\n",
        "\n",
        "+ Lợi nhuận cao: Nếu lợi nhuận sau thuế trên 100,000 USD.\n",
        "+ Lợi nhuận trung bình: Nếu lợi nhuận sau thuế từ 50,000 đến 100,000 USD.\n",
        "+ Lợi nhuận thấp: Nếu lợi nhuận sau thuế dưới 50,000 USD.\n",
        "\n",
        "Viết chương trình Python:\n",
        "\n",
        "+ Nhập lợi nhuận sau thuế từ người dùng.\n",
        "+ Sử dụng if-elif-else để phân loại và hiển thị kết quả."
      ],
      "metadata": {
        "id": "05jgP4xmJ_i-"
      }
    },
    {
      "cell_type": "code",
      "source": [],
      "metadata": {
        "id": "cZFrIIWQKIqW"
      },
      "execution_count": null,
      "outputs": []
    },
    {
      "cell_type": "markdown",
      "source": [
        "### **3) Tính chi phí sản xuất**"
      ],
      "metadata": {
        "id": "iaFfSQt_P4Sj"
      }
    },
    {
      "cell_type": "markdown",
      "source": [
        "Đề bài:\n",
        "Công ty sản xuất một loại sản phẩm với các chi phí sau:\n",
        "\n",
        "+ Chi phí cố định: 100 triệu.\n",
        "+ Chi phí biến đổi: 50,000 đồng/sản phẩm.\n",
        "+ Nếu tổng chi phí vượt quá 500 triệu, công ty sẽ áp dụng mức giảm giá 10% cho toàn bộ sản phẩm.\n",
        "+ Tính tổng chi phí sản xuất và kiểm tra xem có áp dụng giảm giá hay không.\n",
        "\n",
        "Input: Số lượng sản phẩm N.\n",
        "Output: Tổng chi phí và trạng thái giảm giá."
      ],
      "metadata": {
        "id": "Ti7LJ6piP47n"
      }
    },
    {
      "cell_type": "code",
      "source": [],
      "metadata": {
        "id": "FrCtwZCnQB9K"
      },
      "execution_count": null,
      "outputs": []
    },
    {
      "cell_type": "markdown",
      "source": [
        "### **4) Phân bổ ngân sách đầu tư**"
      ],
      "metadata": {
        "id": "Y5yof2eKQPuc"
      }
    },
    {
      "cell_type": "markdown",
      "source": [
        "Đề bài:\n",
        "Công ty có ngân sách B1 và cần phân bổ vào 3 dự án theo các điều kiện:\n",
        "\n",
        "+ Nếu dự án A > 50 triệu, dành 40% ngân sách cho A. Ngược lại, không đầu tư\n",
        "\n",
        "+ Nếu dự án B cần đầu tư > 30 triệu, dành 30% ngân sách cho B. Ngược lại, không đầu tư\n",
        "\n",
        "+ Phần còn lại dành cho dự án C.\n",
        "\n",
        "Input: Ngân sách B1, chi phí dự án A, B, C.\n",
        "\n",
        "Output: Số tiền phân bổ cho từng dự án."
      ],
      "metadata": {
        "id": "jM4kzVYmQbzm"
      }
    },
    {
      "cell_type": "code",
      "source": [],
      "metadata": {
        "id": "l06E149YQjLu"
      },
      "execution_count": null,
      "outputs": []
    },
    {
      "cell_type": "markdown",
      "source": [
        "### **5) Tính điểm tín dụng**"
      ],
      "metadata": {
        "id": "0fssM3dIRaNr"
      }
    },
    {
      "cell_type": "markdown",
      "source": [
        "Đề bài:\n",
        "Ngân hàng tính điểm tín dụng của khách hàng dựa trên:\n",
        "\n",
        "+ Thu nhập hàng tháng:\n",
        "> Nếu > 20 triệu: 50 điểm.\n",
        "> 10-20 triệu: 30 điểm.\n",
        "> Nếu < 10 triệu: 10 điểm.\n",
        "+ Thời gian sử dụng dịch vụ ngân hàng:\n",
        "> Nếu > 5 năm: 30 điểm.\n",
        "> 1-5 năm: 20 điểm.\n",
        "> Nếu < 1 năm: 10 điểm.\n",
        "\n",
        "Tính tổng điểm tín dụng và phân loại khách hàng:\n",
        "\n",
        "> Nếu ≥ 70 điểm: \"Tốt\".\n",
        "\n",
        "> Nếu 50-69 điểm: \"Khá\".\n",
        "\n",
        "> Nếu < 50 điểm: \"Yếu\".\n",
        "\n",
        "Input: Thu nhập, thời gian sử dụng dịch vụ.\n",
        "\n",
        "Output: Tổng điểm tín dụng và phân loại."
      ],
      "metadata": {
        "id": "k9pvW9IqRf7_"
      }
    },
    {
      "cell_type": "code",
      "source": [],
      "metadata": {
        "id": "F8ICc2hrRz7_"
      },
      "execution_count": null,
      "outputs": []
    }
  ]
}