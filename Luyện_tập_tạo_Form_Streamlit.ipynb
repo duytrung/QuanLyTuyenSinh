{
  "nbformat": 4,
  "nbformat_minor": 0,
  "metadata": {
    "colab": {
      "provenance": [],
      "include_colab_link": true
    },
    "kernelspec": {
      "name": "python3",
      "display_name": "Python 3"
    },
    "language_info": {
      "name": "python"
    }
  },
  "cells": [
    {
      "cell_type": "markdown",
      "metadata": {
        "id": "view-in-github",
        "colab_type": "text"
      },
      "source": [
        "<a href=\"https://colab.research.google.com/github/duytrung/QuanLyTuyenSinh/blob/main/Luy%E1%BB%87n_t%E1%BA%ADp_t%E1%BA%A1o_Form_Streamlit.ipynb\" target=\"_parent\"><img src=\"https://colab.research.google.com/assets/colab-badge.svg\" alt=\"Open In Colab\"/></a>"
      ]
    },
    {
      "cell_type": "markdown",
      "source": [
        "# **Bài tập trên lớp**"
      ],
      "metadata": {
        "id": "ZRlj63Y6kxJ5"
      }
    },
    {
      "cell_type": "markdown",
      "source": [
        "### **1) Biểu mẫu tính chỉ số BMI**"
      ],
      "metadata": {
        "id": "mZgwQtH8k70z"
      }
    },
    {
      "cell_type": "markdown",
      "source": [
        "Tạo một ứng dụng tính toán chỉ số BMI từ chiều cao và cân nặng.\n",
        "\n",
        "Yêu cầu:\n",
        "+ Tạo một form yêu cầu nhập:\n",
        "  > Chiều cao (m).<br>\n",
        "  > Cân nặng (kg).\n",
        "\n",
        "+ Tính BMI theo công thức:\n",
        "  > BMI = Cân nặng / chiều cao ^ 2\n",
        "\n",
        "+ Hiển thị kết quả BMI và phân loại:\n",
        "  > Dưới 18.5: Thiếu cân.<br>\n",
        "  > 18.5 đến 24.9: Bình thường.<br>\n",
        "  > 25 trở lên: Thừa cân.<br>\n",
        "\n",
        "+ Lưu kết quả vào file **.txt**\n"
      ],
      "metadata": {
        "id": "yScy6U3DlDlB"
      }
    },
    {
      "cell_type": "code",
      "execution_count": null,
      "metadata": {
        "id": "iAGWL1dIksq8"
      },
      "outputs": [],
      "source": []
    },
    {
      "cell_type": "markdown",
      "source": [
        "### **2) Đăng ký thông tin cá nhân**"
      ],
      "metadata": {
        "id": "NkM1Og30lixw"
      }
    },
    {
      "cell_type": "markdown",
      "source": [
        "Tạo một biểu mẫu thu thập thông tin cá nhân.\n",
        "\n",
        "+ Yêu cầu:\n",
        "  > Form bao gồm các trường:\n",
        "  > Họ và tên (Text Input).\n",
        "+ Tuổi (Number Input).\n",
        "  > Email (Text Input, kiểm tra định dạng email).\n",
        "  > Giới tính (Radio Button).\n",
        "+ Kiểm tra đầu vào:\n",
        "  > Nếu thiếu thông tin, hiển thị thông báo lỗi.\n",
        "  > Nếu hợp lệ, hiển thị thông tin người dùng đã đăng ký.\n",
        "+ Lưu thông tin vào file **.txt**"
      ],
      "metadata": {
        "id": "rvDbb1V2luGS"
      }
    },
    {
      "cell_type": "code",
      "source": [],
      "metadata": {
        "id": "rXjzHhNVmGqv"
      },
      "execution_count": null,
      "outputs": []
    },
    {
      "cell_type": "markdown",
      "source": [
        "### **3) Phần mềm tính lãi suất ngân hàng**"
      ],
      "metadata": {
        "id": "7-7ytTfWmHZs"
      }
    },
    {
      "cell_type": "markdown",
      "source": [
        "Tính tiền lãi từ số tiền gửi tiết kiệm và lãi suất hàng năm.\n",
        "\n",
        "+ Yêu cầu:\n",
        "  > Form bao gồm các trường:\n",
        "  > Số tiền gửi (Number Input).\n",
        "  > Lãi suất hàng năm (%) (Slider từ 1% đến 20%).\n",
        "  > Thời gian gửi (Năm) (Number Input).\n",
        "\n",
        "+ Tính tổng tiền lãi theo công thức:\n",
        "  > Lãi = Số tiền gửi * Lãi suất hàng năm * Thời gian gửi\n",
        "\n",
        "+ Hiển thị kết quả số tiền lãi và tổng số tiền sau khi nhận lãi.\n",
        "+ Lưu vào file word document (**.docx**)\n"
      ],
      "metadata": {
        "id": "Mz6Rn1wSmOHx"
      }
    },
    {
      "cell_type": "code",
      "source": [],
      "metadata": {
        "id": "ZKJZXpKXm2oB"
      },
      "execution_count": null,
      "outputs": []
    },
    {
      "cell_type": "markdown",
      "source": [
        "### **4) Đăng ký tham gia sự kiện**"
      ],
      "metadata": {
        "id": "oVD4Pf1-m30-"
      }
    },
    {
      "cell_type": "markdown",
      "source": [
        "Thu thập thông tin đăng ký tham gia sự kiện.\n",
        "\n",
        "+ Yêu cầu - tạo một form yêu cầu nhập:\n",
        "  > Họ và tên.<br>\n",
        "  > Số điện thoại.<br>\n",
        "  > Chọn ngày tham gia (Date Input).<br>\n",
        "  > Tùy chọn thêm quà sự kiện (Checkbox).\n",
        "\n",
        "+ Sau khi submit:\n",
        "  > Hiển thị thông báo đăng ký thành công.\n",
        "\n",
        "+ Lưu thông tin vào file word document **.docx**"
      ],
      "metadata": {
        "id": "ioKMsJhJnCeH"
      }
    },
    {
      "cell_type": "code",
      "source": [],
      "metadata": {
        "id": "SzVJ625WupIG"
      },
      "execution_count": null,
      "outputs": []
    },
    {
      "cell_type": "markdown",
      "source": [
        "# **Bài tập về nhà**"
      ],
      "metadata": {
        "id": "P0ItqkwsusDX"
      }
    },
    {
      "cell_type": "markdown",
      "source": [
        "### **1) Tạo app tính thuế thu nhập cá nhân**"
      ],
      "metadata": {
        "id": "2wrlt8SsuvIS"
      }
    },
    {
      "cell_type": "markdown",
      "source": [
        "Tính số thuế phải nộp dựa trên thu nhập.\n",
        "\n",
        "+ Yêu cầu - Form bao gồm các trường:\n",
        "  > Tên người nộp thuế (Text Input)<br>\n",
        "  > Tổng thu nhập (Number Input).<br>\n",
        "  > Giảm trừ gia cảnh (Number Input).\n",
        "+ Tính thu nhập chịu thuế:\n",
        "  > Thu nhập chịu thuế = Tổng thu nhập - Giảm trừ gia cảnh\n",
        "+ Áp dụng các mức thuế:\n",
        "  > Dưới 10 triệu: 5%.\n",
        "  > Từ 10 đến 20 triệu: 10%.\n",
        "  > Trên 20 triệu: 15%.\n",
        "+ Hiển thị số thuế phải nộp.\n",
        "+ Lưu vào file text **.txt**"
      ],
      "metadata": {
        "id": "HRDNie7Mu6nn"
      }
    },
    {
      "cell_type": "code",
      "source": [],
      "metadata": {
        "id": "ffi9Re4ovhUj"
      },
      "execution_count": null,
      "outputs": []
    },
    {
      "cell_type": "markdown",
      "source": [
        "### **2) Tính tuổi từ ngày sinh**"
      ],
      "metadata": {
        "id": "CJ5OvadWviIa"
      }
    },
    {
      "cell_type": "markdown",
      "source": [
        "Tính tuổi của người dùng dựa trên ngày sinh.\n",
        "\n",
        "+ Yêu cầu - tạo form yêu cầu nhập:\n",
        "  > Tên.\n",
        "  > Ngày sinh (Date Input).\n",
        "+ Tính tuổi từ ngày sinh dựa trên ngày hiện tại.\n",
        "+ Hiển thị kết quả với câu chào như:\n",
        "  > \"Xin chào [Tên]! Bạn hiện tại [Tuổi] tuổi.\""
      ],
      "metadata": {
        "id": "Ua5a9bAAvrOx"
      }
    },
    {
      "cell_type": "code",
      "source": [],
      "metadata": {
        "id": "hHrn0R25vzuu"
      },
      "execution_count": null,
      "outputs": []
    },
    {
      "cell_type": "markdown",
      "source": [
        "### **3) Đánh giá bài kiểm tra**"
      ],
      "metadata": {
        "id": "0NyWX8Iav0MO"
      }
    },
    {
      "cell_type": "markdown",
      "source": [
        "Mục tiêu: Xây dựng form nhập điểm và đánh giá kết quả.\n",
        "\n",
        "+ Yêu cầu - Form yêu cầu nhập:\n",
        "  > Điểm Toán.<br>\n",
        "  > Điểm Văn.<br>\n",
        "  > Điểm Anh.<br>\n",
        "\n",
        "+ Tính điểm trung bình:\n",
        "  > Điểm trung bình = (Toán + Văn + Anh) / 3\n",
        "\n",
        "+ Hiển thị đánh giá:\n",
        "  > Điểm trung bình < 5: \"Chưa đạt.\"<br>\n",
        "  > 5 ≤ Điểm trung bình < 8: \"Đạt.\"<br>\n",
        "  > Điểm trung bình ≥ 8: \"Xuất sắc.\"\n",
        "+ Lưu kết quả vào trong file word document (**.docx**)"
      ],
      "metadata": {
        "id": "UKsL7DLiv8JT"
      }
    },
    {
      "cell_type": "code",
      "source": [],
      "metadata": {
        "id": "Kuw4B2QCwdg5"
      },
      "execution_count": null,
      "outputs": []
    },
    {
      "cell_type": "markdown",
      "source": [
        "### **4) Form đặt vé xem phim**"
      ],
      "metadata": {
        "id": "7K6_uC0vweEL"
      }
    },
    {
      "cell_type": "markdown",
      "source": [
        "Tạo một ứng dụng đặt vé xem phim đơn giản.\n",
        "\n",
        "+ Yêu cầu - Form bao gồm:\n",
        "  > Chọn phim (Selectbox).<br>\n",
        "  > Số lượng vé (Number Input).<br>\n",
        "  > Chọn ghế ưu tiên (Checkbox).<br>\n",
        "+ Tính tổng tiền dựa trên:\n",
        "  > Giá vé: 100,000 VND/vé.<br>\n",
        "  > Ghế ưu tiên: Tăng thêm 20,000 VND/vé.<br>\n",
        "+ Hiển thị thông báo chi tiết vé và tổng tiền cần thanh toán.\n",
        "+ Lưu hóa đơn thanh toán vào file word document (**.docx**)"
      ],
      "metadata": {
        "id": "2w11A4vTwijT"
      }
    },
    {
      "cell_type": "code",
      "source": [],
      "metadata": {
        "id": "pv8-9f7ww-L-"
      },
      "execution_count": null,
      "outputs": []
    }
  ]
}