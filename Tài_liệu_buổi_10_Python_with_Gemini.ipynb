{
  "nbformat": 4,
  "nbformat_minor": 0,
  "metadata": {
    "colab": {
      "provenance": [],
      "include_colab_link": true
    },
    "kernelspec": {
      "name": "python3",
      "display_name": "Python 3"
    },
    "language_info": {
      "name": "python"
    }
  },
  "cells": [
    {
      "cell_type": "markdown",
      "metadata": {
        "id": "view-in-github",
        "colab_type": "text"
      },
      "source": [
        "<a href=\"https://colab.research.google.com/github/duytrung/QuanLyTuyenSinh/blob/main/T%C3%A0i_li%E1%BB%87u_bu%E1%BB%95i_10_Python_with_Gemini.ipynb\" target=\"_parent\"><img src=\"https://colab.research.google.com/assets/colab-badge.svg\" alt=\"Open In Colab\"/></a>"
      ]
    },
    {
      "cell_type": "markdown",
      "source": [
        "# **🤖 Streamlit Chatbot với Gemini AI - Giải Thích Chi Tiết**"
      ],
      "metadata": {
        "id": "RYTSFToHYMI4"
      }
    },
    {
      "cell_type": "markdown",
      "source": [
        "**🖥️ Source code:** https://github.com/riodev1310/gemini_chatbot/blob/main/gemini_chatbot.py"
      ],
      "metadata": {
        "id": "sbKODnNIaSmP"
      }
    },
    {
      "cell_type": "markdown",
      "source": [
        "## **🚀 Giới Thiệu**"
      ],
      "metadata": {
        "id": "UBuBhYHCYPrl"
      }
    },
    {
      "cell_type": "markdown",
      "source": [
        "Ứng dụng này sử dụng Streamlit để tạo chatbot với mô hình Gemini AI của Google. Người dùng có thể nhập câu hỏi và nhận phản hồi từ mô hình AI. Đồng thời, lịch sử hội thoại được lưu trữ để hiển thị trong giao diện."
      ],
      "metadata": {
        "id": "Fo-AG2bCYSfi"
      }
    },
    {
      "cell_type": "markdown",
      "source": [
        "## **1. 🔧 Cấu Hình Ứng Dụng**"
      ],
      "metadata": {
        "id": "ixAihf7GYVMd"
      }
    },
    {
      "cell_type": "code",
      "execution_count": null,
      "metadata": {
        "id": "q5GxRdOeWdOW"
      },
      "outputs": [],
      "source": [
        "import streamlit as st\n",
        "import google.generativeai as genai"
      ]
    },
    {
      "cell_type": "markdown",
      "source": [
        "📌 Import thư viện cần thiết:\n",
        "\n",
        "+ `streamlit`: Tạo giao diện người dùng.\n",
        "\n",
        "+ `google.generativeai`: Tích hợp mô hình AI của Google.\n",
        "\n"
      ],
      "metadata": {
        "id": "yT-WnpUwYZWC"
      }
    },
    {
      "cell_type": "code",
      "source": [
        "# Khởi tạo session\n",
        "genai.configure(api_key=\"api_key_from_ai_studio\")"
      ],
      "metadata": {
        "id": "6C8DgtoqYihZ"
      },
      "execution_count": null,
      "outputs": []
    },
    {
      "cell_type": "markdown",
      "source": [
        "🔑 Cấu hình API Key để sử dụng mô hình Gemini AI."
      ],
      "metadata": {
        "id": "GzBZCfr2YmB7"
      }
    },
    {
      "cell_type": "code",
      "source": [
        "# Lấy model từ Gemini để sử dụng\n",
        "model = genai.GenerativeModel(\"gemini-2.0-flash\")"
      ],
      "metadata": {
        "id": "t7dDEFeDYqbx"
      },
      "execution_count": null,
      "outputs": []
    },
    {
      "cell_type": "markdown",
      "source": [
        "🧠 Khởi tạo mô hình Gemini 2.0 Flash để tạo phản hồi cho chatbot."
      ],
      "metadata": {
        "id": "XXyTylvlYuQq"
      }
    },
    {
      "cell_type": "markdown",
      "source": [
        "## **2. 📂 Xử Lý Lịch Sử Hội Thoại**"
      ],
      "metadata": {
        "id": "E8UVZ--BYwsL"
      }
    },
    {
      "cell_type": "markdown",
      "source": [
        "### **2.1. 💾 Lưu Trữ Lịch Sử Hội Thoại**"
      ],
      "metadata": {
        "id": "VMhM6F__Yzaq"
      }
    },
    {
      "cell_type": "code",
      "source": [
        "if \"history\" not in st.session_state:\n",
        "    st.session_state.history = []"
      ],
      "metadata": {
        "id": "3evMY0RNYxek"
      },
      "execution_count": null,
      "outputs": []
    },
    {
      "cell_type": "markdown",
      "source": [
        "🔄 Kiểm tra xem lịch sử hội thoại đã được tạo chưa.\n",
        "\n",
        "📌 Nếu chưa, khởi tạo danh sách rỗng để lưu hội thoại."
      ],
      "metadata": {
        "id": "BNd4neqTY4qL"
      }
    },
    {
      "cell_type": "markdown",
      "source": [
        "### **2.2. 🤖 Hàm Tạo Phản Hồi Từ AI**"
      ],
      "metadata": {
        "id": "8r6we_JgY9Vb"
      }
    },
    {
      "cell_type": "code",
      "source": [
        "def generate_bot_response(question):\n",
        "    response = model.generate_content(question)\n",
        "    bot_response = response.text.replace(\"*\", \"\")\n",
        "    save_conversation(question, bot_response)\n",
        "    return bot_response"
      ],
      "metadata": {
        "id": "_F5DfMfRY3_Y"
      },
      "execution_count": null,
      "outputs": []
    },
    {
      "cell_type": "markdown",
      "source": [
        "🔍 Gửi câu hỏi đến mô hình AI.\n",
        "\n",
        "✅ Nhận phản hồi từ mô hình và loại bỏ các ký tự * không cần thiết.\n",
        "\n",
        "💾 Gọi hàm save_conversation() để lưu lại hội thoại."
      ],
      "metadata": {
        "id": "Y3OeuyvLZDE8"
      }
    },
    {
      "cell_type": "markdown",
      "source": [
        "### **2.3. 💾 Hàm Lưu Cuộc Hội Thoại**"
      ],
      "metadata": {
        "id": "hjtdRogxZIbX"
      }
    },
    {
      "cell_type": "code",
      "source": [
        "def save_conversation(question, response):\n",
        "    conversation = {\n",
        "        \"you\": question,\n",
        "        \"bot\": response\n",
        "    }\n",
        "    st.session_state.history.append(conversation)"
      ],
      "metadata": {
        "id": "mgnhbkhMZGBc"
      },
      "execution_count": null,
      "outputs": []
    },
    {
      "cell_type": "markdown",
      "source": [
        "📌 Lưu từng câu hỏi và phản hồi vào danh sách lịch sử hội thoại.\n",
        "\n",
        "✅ Danh sách này được lưu trong st.session_state.history."
      ],
      "metadata": {
        "id": "OTlt7IeqZLbu"
      }
    },
    {
      "cell_type": "markdown",
      "source": [
        "## **3. 🖥️ Xây Dựng Giao Diện Streamlit**"
      ],
      "metadata": {
        "id": "3DOMdzK0ZRIC"
      }
    },
    {
      "cell_type": "code",
      "source": [
        "st.title(\"Streamlit Chatbot\")"
      ],
      "metadata": {
        "id": "dXKEnsxtZNp-"
      },
      "execution_count": null,
      "outputs": []
    },
    {
      "cell_type": "markdown",
      "source": [
        "🎯 Hiển thị tiêu đề ứng dụng chatbot."
      ],
      "metadata": {
        "id": "dtWm7iugZVLq"
      }
    },
    {
      "cell_type": "markdown",
      "source": [
        "### **3.1. ✍️ Nhập Câu Hỏi**"
      ],
      "metadata": {
        "id": "19Aah8okZa7l"
      }
    },
    {
      "cell_type": "code",
      "source": [
        "user_question = st.text_input(\"Question: \")\n",
        "ask_button = st.button(\"Ask\")"
      ],
      "metadata": {
        "id": "1M8AFUmFZYiq"
      },
      "execution_count": null,
      "outputs": []
    },
    {
      "cell_type": "markdown",
      "source": [
        "📤 Cho phép người dùng nhập câu hỏi vào chatbot.\n",
        "\n",
        "🔘 Nút Ask để gửi câu hỏi."
      ],
      "metadata": {
        "id": "R7h__lJRZeS_"
      }
    },
    {
      "cell_type": "markdown",
      "source": [
        "### **3.2. 🚀 Xử Lý Khi Nhấn Nút 'Ask'**"
      ],
      "metadata": {
        "id": "QmWLlG2EZidS"
      }
    },
    {
      "cell_type": "code",
      "source": [
        "if ask_button and user_question:\n",
        "    bot_response = generate_bot_response(st.session_state.user_question)"
      ],
      "metadata": {
        "id": "nyWIguYqZgHo"
      },
      "execution_count": null,
      "outputs": []
    },
    {
      "cell_type": "markdown",
      "source": [
        "🔍 Nếu nút Ask được nhấn và có câu hỏi, gọi generate_bot_response() để lấy phản hồi từ AI."
      ],
      "metadata": {
        "id": "hmcsZUAlZnE0"
      }
    },
    {
      "cell_type": "markdown",
      "source": [
        "### **3.3. 💬 Hiển Thị Lịch Sử Hội Thoại**"
      ],
      "metadata": {
        "id": "NqpdjtCjZvCu"
      }
    },
    {
      "cell_type": "code",
      "source": [
        "for conversation in st.session_state.history:\n",
        "    st.subheader(\"You: \")\n",
        "    st.write(conversation[\"you\"])\n",
        "    st.subheader(\"Bot: \")\n",
        "    st.write(conversation[\"bot\"])"
      ],
      "metadata": {
        "id": "DpDdm6slZqeC"
      },
      "execution_count": null,
      "outputs": []
    },
    {
      "cell_type": "markdown",
      "source": [
        "📌 Duyệt qua danh sách st.session_state.history để hiển thị lịch sử hội thoại.\n",
        "\n",
        "💬 Hiển thị câu hỏi của người dùng (You:) và phản hồi của AI (Bot:)."
      ],
      "metadata": {
        "id": "WObvIVogaGga"
      }
    },
    {
      "cell_type": "markdown",
      "source": [
        "## **📌 Tổng Kết**"
      ],
      "metadata": {
        "id": "tcpMB2PEaKSu"
      }
    },
    {
      "cell_type": "markdown",
      "source": [
        "📌 Ứng dụng này sử dụng `Streamlit` để xây dựng chatbot tích hợp Gemini AI. Người dùng có thể nhập câu hỏi và nhận phản hồi từ AI. Lịch sử hội thoại được lưu để người dùng có thể theo dõi cuộc trò chuyện. 🚀"
      ],
      "metadata": {
        "id": "pp0B9bvGaLxE"
      }
    }
  ]
}