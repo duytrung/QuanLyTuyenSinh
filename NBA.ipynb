{
  "nbformat": 4,
  "nbformat_minor": 0,
  "metadata": {
    "colab": {
      "provenance": [],
      "toc_visible": true,
      "include_colab_link": true
    },
    "kernelspec": {
      "name": "python3",
      "display_name": "Python 3"
    },
    "language_info": {
      "name": "python"
    }
  },
  "cells": [
    {
      "cell_type": "markdown",
      "metadata": {
        "id": "view-in-github",
        "colab_type": "text"
      },
      "source": [
        "<a href=\"https://colab.research.google.com/github/duytrung/QuanLyTuyenSinh/blob/main/NBA.ipynb\" target=\"_parent\"><img src=\"https://colab.research.google.com/assets/colab-badge.svg\" alt=\"Open In Colab\"/></a>"
      ]
    },
    {
      "cell_type": "markdown",
      "source": [
        "# **🏀 NBA 1985 Data Analysis**\n",
        "\n",
        "![cover image](https://drive.google.com/uc?id=1O5bcKSGSvyBWIAP9CIT8i1h0Heisv0Gc)\n",
        "\n",
        "## **📃 Introduction**\n",
        "\n",
        "It's time to dive into practicing Vectorized Operations with Series.\n",
        "\n",
        "We'll work with NBA player statistics dating back to 1985. While this exercise focuses on Series, we'll initially read our data into a DataFrame.\n",
        "\n",
        "You're unfamiliar with Series, and that's okay; just know that each column of a DataFrame is a Series. And a Series is a part of Pandas, that is really similar to NumPy Array.\n",
        "\n",
        "Let's get started!"
      ],
      "metadata": {
        "id": "HcQmM6pxdu46"
      }
    },
    {
      "cell_type": "markdown",
      "source": [
        "## **1️⃣ Data loading & overview**"
      ],
      "metadata": {
        "id": "g54cWk2Mgo4j"
      }
    },
    {
      "cell_type": "markdown",
      "source": [
        "### **📥 Data loading**"
      ],
      "metadata": {
        "id": "wOqSgUSifkC1"
      }
    },
    {
      "cell_type": "markdown",
      "source": [
        "**Pandas import**\n",
        "\n",
        "At the first, we need to import Pandas. Write the code to import Pandas in the code cell below.\n",
        "\n",
        "> ⚠️ Don't forget to use the alias that is regularly used by all Data Analysts to import Pandas library."
      ],
      "metadata": {
        "id": "3CZ2YDgtfoCi"
      }
    },
    {
      "cell_type": "code",
      "execution_count": null,
      "metadata": {
        "id": "zyeO2md1dmWD"
      },
      "outputs": [],
      "source": [
        "# Your code\n",
        "import pandas as pd"
      ]
    },
    {
      "cell_type": "markdown",
      "source": [
        "**Loading data by URL**\n",
        "\n",
        "The data to work is located in CSV file by the following link: https://raw.githubusercontent.com/RusAbk/sca_datasets/main/nba_player_stats_1985.csv\n",
        "\n",
        "Read the given dataset into a pandas dataframe (usually has name `df`)"
      ],
      "metadata": {
        "id": "XIIH5RPBfsMT"
      }
    },
    {
      "cell_type": "code",
      "source": [
        "# Your code for loading data into dataframe\n",
        "df = pd.read_csv('https://raw.githubusercontent.com/RusAbk/sca_datasets/main/nba_player_stats_1985.csv')\n",
        "df.info()"
      ],
      "metadata": {
        "id": "HC1Q5x7TgCOi",
        "colab": {
          "base_uri": "https://localhost:8080/"
        },
        "outputId": "d7d16733-2316-4238-9c52-f17b5cb6207b"
      },
      "execution_count": null,
      "outputs": [
        {
          "output_type": "stream",
          "name": "stdout",
          "text": [
            "<class 'pandas.core.frame.DataFrame'>\n",
            "RangeIndex: 2553 entries, 0 to 2552\n",
            "Data columns (total 24 columns):\n",
            " #   Column   Non-Null Count  Dtype  \n",
            "---  ------   --------------  -----  \n",
            " 0   Player   2553 non-null   object \n",
            " 1   height   2553 non-null   float64\n",
            " 2   weight   2553 non-null   float64\n",
            " 3   collage  2237 non-null   object \n",
            " 4   born     2553 non-null   float64\n",
            " 5   G        2553 non-null   float64\n",
            " 6   MP       2553 non-null   float64\n",
            " 7   FG       2553 non-null   float64\n",
            " 8   FGA      2553 non-null   float64\n",
            " 9   FT       2553 non-null   float64\n",
            " 10  FTA      2553 non-null   float64\n",
            " 11  3P       2553 non-null   float64\n",
            " 12  3PA      2553 non-null   float64\n",
            " 13  2P       2553 non-null   float64\n",
            " 14  2PA      2553 non-null   float64\n",
            " 15  ORB      2553 non-null   float64\n",
            " 16  DRB      2553 non-null   float64\n",
            " 17  TRB      2553 non-null   float64\n",
            " 18  AST      2553 non-null   float64\n",
            " 19  STL      2553 non-null   float64\n",
            " 20  BLK      2553 non-null   float64\n",
            " 21  TOV      2553 non-null   float64\n",
            " 22  PF       2553 non-null   float64\n",
            " 23  PTS      2553 non-null   float64\n",
            "dtypes: float64(22), object(2)\n",
            "memory usage: 478.8+ KB\n"
          ]
        }
      ]
    },
    {
      "cell_type": "markdown",
      "source": [
        "### **👁️ The first sight**"
      ],
      "metadata": {
        "id": "JFWMrXV0gLhD"
      }
    },
    {
      "cell_type": "markdown",
      "source": [
        "**Columns**\n",
        "\n",
        "Also, it's a very common action at the beginning to output the list of all the columns in the dataframe."
      ],
      "metadata": {
        "id": "8Y0G6dfSgQpC"
      }
    },
    {
      "cell_type": "code",
      "source": [
        "# Your code showing the list of columns\n"
      ],
      "metadata": {
        "id": "kO1ZsSkfgSlD"
      },
      "execution_count": null,
      "outputs": []
    },
    {
      "cell_type": "markdown",
      "source": [
        "**Data structure overview**\n",
        "\n",
        "Another common action is to check the data structure. Output an overview of the columns in the cell below."
      ],
      "metadata": {
        "id": "ltnA4UAUgTBN"
      }
    },
    {
      "cell_type": "code",
      "source": [
        "# Your code showing dataframe columns' types\n"
      ],
      "metadata": {
        "id": "wiafXZBXgW1G"
      },
      "execution_count": null,
      "outputs": []
    },
    {
      "cell_type": "markdown",
      "source": [
        "**The first 5 rows**\n",
        "\n",
        "Before performing any operation with data, you need to take a look to ensure that everything is okay with the loaded data.\n",
        "\n",
        "In the cell below, write a code to output the first 5 rows of the dataframe."
      ],
      "metadata": {
        "id": "m-AjCCpBgW-3"
      }
    },
    {
      "cell_type": "code",
      "source": [
        "# Your code showing the first 5 row\n"
      ],
      "metadata": {
        "id": "eAdl9vv_gY0D"
      },
      "execution_count": null,
      "outputs": []
    },
    {
      "cell_type": "markdown",
      "source": [
        "## **2️⃣ Calculations**"
      ],
      "metadata": {
        "id": "l-FbjLEAgvST"
      }
    },
    {
      "cell_type": "markdown",
      "source": [
        "### **🎯 Field goal accuracy**\n",
        "\n",
        "**Average field goal accuracy**\n",
        "\n",
        "Calculate the average **\"Field Goal accuracy\"** by dividing the sum of field goals (the column FG) by the sum of their total attempts (the column FGA) then multiply by 100.\n",
        "\n",
        "Store the result in the variable `field_goal_perc`."
      ],
      "metadata": {
        "id": "Y1zYOk40hGu1"
      }
    },
    {
      "cell_type": "code",
      "source": [
        "# Your code to calculate\n",
        "field_goal_perc = df['FG'].sum() / df['FGA'].sum() * 100"
      ],
      "metadata": {
        "id": "Y-A9AlKEhOnQ"
      },
      "execution_count": null,
      "outputs": []
    },
    {
      "cell_type": "code",
      "source": [
        "# Output the value\n",
        "print(\"Field_goal_perc (average):\" , field_goal_perc)"
      ],
      "metadata": {
        "id": "XSI69hdXtIaR"
      },
      "execution_count": null,
      "outputs": []
    },
    {
      "cell_type": "markdown",
      "source": [
        "**Field goal accuracy only for Michael Jordan**\n"
      ],
      "metadata": {
        "id": "kpxH9U1ki9F3"
      }
    },
    {
      "cell_type": "markdown",
      "source": [
        "Now let's check one of the most famous players in the NBA history: **Michael Jordan**.\n",
        "\n",
        "Calculate the **\"Field Goal accuracy\"** only for Michael Jordan.\n",
        "\n",
        "Store the result in the variable `mj_field_goal_perc`.\n",
        "\n",
        "> **⚠️ Pay attention!**\n",
        ">\n",
        "> In the dataset his name is `'Michael Jordan*'`.\n",
        ">\n",
        "> The star (*) next to the player's name is because that player was selected for the \"Hall of Fame\" of the NBA."
      ],
      "metadata": {
        "id": "WYZtgYewkiio"
      }
    },
    {
      "cell_type": "code",
      "source": [
        "# Your code to calculate\n"
      ],
      "metadata": {
        "id": "eReHwnFzjGWD"
      },
      "execution_count": null,
      "outputs": []
    },
    {
      "cell_type": "code",
      "source": [
        "# Output the value\n",
        "print(\"Michael Jordan's field_goal_perc:\" , float(mj_field_goal_perc))"
      ],
      "metadata": {
        "id": "JCjsPNV6tQkB"
      },
      "execution_count": null,
      "outputs": []
    },
    {
      "cell_type": "markdown",
      "source": [
        "### **⛹🏼‍♂️ Field goals per game**"
      ],
      "metadata": {
        "id": "iKv-EpxClxPp"
      }
    },
    {
      "cell_type": "markdown",
      "source": [
        "**Average field goals per game**"
      ],
      "metadata": {
        "id": "BW1QJy1SnCOP"
      }
    },
    {
      "cell_type": "markdown",
      "source": [
        "Calculate the \"Field Goals per Game\" using the columns FG and games played (column \"G\").\n",
        "\n",
        "Store your results in the variable `field_goals_per_game`"
      ],
      "metadata": {
        "id": "GdGK1vgclqdi"
      }
    },
    {
      "cell_type": "code",
      "source": [
        "# Your code to calculate\n"
      ],
      "metadata": {
        "id": "uuw67ds9lq29"
      },
      "execution_count": null,
      "outputs": []
    },
    {
      "cell_type": "code",
      "source": [
        "# Output the value\n",
        "print(\"Field_goals_per_game (average):\" , field_goals_per_game)"
      ],
      "metadata": {
        "id": "sNPpiuW4tSms"
      },
      "execution_count": null,
      "outputs": []
    },
    {
      "cell_type": "markdown",
      "source": [
        "**Field goal accuracy only for Michael Jordan**"
      ],
      "metadata": {
        "id": "A-YBzgbYnaPY"
      }
    },
    {
      "cell_type": "markdown",
      "source": [
        "Now let's do the same, but only for **Michael Jordan**.\n",
        "\n",
        "Calculate the **\"Field Goal accuracy\"** only for Michael Jordan.\n",
        "\n",
        "Store the result in the variable `mj_field_goals_per_game`."
      ],
      "metadata": {
        "id": "udZnGOPIndr9"
      }
    },
    {
      "cell_type": "code",
      "source": [
        "# Your code to calculate\n"
      ],
      "metadata": {
        "id": "yUHmEvPMmqd1"
      },
      "execution_count": null,
      "outputs": []
    },
    {
      "cell_type": "code",
      "source": [
        "# Output the value\n",
        "print(\"Michael Jordan's field_goals_per_game:\" , float(mj_field_goals_per_game))"
      ],
      "metadata": {
        "id": "kyOG3ZDWtUY_"
      },
      "execution_count": null,
      "outputs": []
    },
    {
      "cell_type": "markdown",
      "source": [
        "### **➕ Add the column 'Total Points'**"
      ],
      "metadata": {
        "id": "99E9Kh7IobT7"
      }
    },
    {
      "cell_type": "markdown",
      "source": [
        "In the NBA lingo, field goals account for all the \"goals\" (column \"FG\") scored by a player, EXCEPT free throws (column \"FT\").\n",
        "\n",
        "So, if we want to calculate the total number of points scored by a player, we must add field goals and free throws.\n",
        "\n",
        "Field goals are a combination of 2-point and 3-point goals. For this exercise, you can safely assume that all \"field goals\" have a value of 2.\n",
        "\n",
        "Calculate Total Points scored by a player, by adding the series containing field goals and free throws. Store your results in the new column `total_points`."
      ],
      "metadata": {
        "id": "o8CFBRcKolUE"
      }
    },
    {
      "cell_type": "code",
      "source": [
        "# Your code adding total_points column\n"
      ],
      "metadata": {
        "id": "C92dOfkwpBrw"
      },
      "execution_count": null,
      "outputs": []
    },
    {
      "cell_type": "code",
      "source": [
        "# Output the first 5 dataframe rows\n"
      ],
      "metadata": {
        "id": "Mk0yddbupTll"
      },
      "execution_count": null,
      "outputs": []
    },
    {
      "cell_type": "markdown",
      "source": [
        "### **❓ Statistics on the top 25% by total points?**"
      ],
      "metadata": {
        "id": "ihEVLMdzqJMN"
      }
    },
    {
      "cell_type": "markdown",
      "source": [
        "Filter top 25% of players by total points and save it into the variable named `ft_top_25perc`"
      ],
      "metadata": {
        "id": "IbJYB6oIsRBr"
      }
    },
    {
      "cell_type": "code",
      "source": [
        "# Your code\n"
      ],
      "metadata": {
        "id": "G-exFttNqYuH"
      },
      "execution_count": null,
      "outputs": []
    },
    {
      "cell_type": "markdown",
      "source": [
        "Output descriptive statistics on the dataframe containing the top 25% of players by total points"
      ],
      "metadata": {
        "id": "PDbuXxPAsftS"
      }
    },
    {
      "cell_type": "code",
      "source": [
        "# Your code showing statistics\n"
      ],
      "metadata": {
        "id": "sy5ufNWgsrd7"
      },
      "execution_count": null,
      "outputs": []
    }
  ]
}