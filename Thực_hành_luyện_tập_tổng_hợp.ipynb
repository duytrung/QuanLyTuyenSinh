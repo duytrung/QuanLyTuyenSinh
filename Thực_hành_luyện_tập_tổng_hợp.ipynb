{
  "nbformat": 4,
  "nbformat_minor": 0,
  "metadata": {
    "colab": {
      "provenance": [],
      "include_colab_link": true
    },
    "kernelspec": {
      "name": "python3",
      "display_name": "Python 3"
    },
    "language_info": {
      "name": "python"
    }
  },
  "cells": [
    {
      "cell_type": "markdown",
      "metadata": {
        "id": "view-in-github",
        "colab_type": "text"
      },
      "source": [
        "<a href=\"https://colab.research.google.com/github/duytrung/QuanLyTuyenSinh/blob/main/Th%E1%BB%B1c_h%C3%A0nh_luy%E1%BB%87n_t%E1%BA%ADp_t%E1%BB%95ng_h%E1%BB%A3p.ipynb\" target=\"_parent\"><img src=\"https://colab.research.google.com/assets/colab-badge.svg\" alt=\"Open In Colab\"/></a>"
      ]
    },
    {
      "cell_type": "markdown",
      "source": [
        "# **I) Làm quen với Python**"
      ],
      "metadata": {
        "id": "wN_f1RJGqjPT"
      }
    },
    {
      "cell_type": "markdown",
      "source": [
        "### **Bài tập 1**"
      ],
      "metadata": {
        "id": "WHo-iUooqqNS"
      }
    },
    {
      "cell_type": "markdown",
      "source": [
        "Viết một chương trình nhận đầu vào từ người dùng (tên, tuổi, giới tính) và in ra một câu chào với thông tin đó."
      ],
      "metadata": {
        "id": "waQLr8NIq2Av"
      }
    },
    {
      "cell_type": "code",
      "execution_count": null,
      "metadata": {
        "id": "ocm3dMk8qiWc"
      },
      "outputs": [],
      "source": []
    },
    {
      "cell_type": "markdown",
      "source": [
        "### **Bài tập 2**"
      ],
      "metadata": {
        "id": "DtXs9pSlq5Iy"
      }
    },
    {
      "cell_type": "markdown",
      "source": [
        "Tính diện tích và chu vi của một hình chữ nhật, nhập chiều dài và chiều rộng từ người dùng."
      ],
      "metadata": {
        "id": "so1aHvTGq7LR"
      }
    },
    {
      "cell_type": "code",
      "source": [],
      "metadata": {
        "id": "U-a5YD-dq9xD"
      },
      "execution_count": null,
      "outputs": []
    },
    {
      "cell_type": "markdown",
      "source": [
        "# **II) Cấu trúc rẽ nhánh**"
      ],
      "metadata": {
        "id": "USJMF1sXq-LJ"
      }
    },
    {
      "cell_type": "markdown",
      "source": [
        "### **Bài tập 3**"
      ],
      "metadata": {
        "id": "nUL33TzkrFNJ"
      }
    },
    {
      "cell_type": "markdown",
      "source": [
        "Viết chương trình kiểm tra xem một số nguyên nhập vào là số chẵn hay số lẻ."
      ],
      "metadata": {
        "id": "0guZZJmUrC1L"
      }
    },
    {
      "cell_type": "code",
      "source": [],
      "metadata": {
        "id": "PSYvUY0nrIan"
      },
      "execution_count": null,
      "outputs": []
    },
    {
      "cell_type": "markdown",
      "source": [
        "### **Bài tập 4**"
      ],
      "metadata": {
        "id": "IsU40q45rI1_"
      }
    },
    {
      "cell_type": "markdown",
      "source": [
        "Nhận điểm trung bình của một học sinh và hiển thị xếp loại (A, B, C, D, F)."
      ],
      "metadata": {
        "id": "N8ZV0uLCrK-g"
      }
    },
    {
      "cell_type": "code",
      "source": [],
      "metadata": {
        "id": "xHcoGs6ZrKjp"
      },
      "execution_count": null,
      "outputs": []
    },
    {
      "cell_type": "markdown",
      "source": [
        "# **III) Hàm và kỹ thuật chia để trị**"
      ],
      "metadata": {
        "id": "8TICdEscrNoA"
      }
    },
    {
      "cell_type": "markdown",
      "source": [
        "### **Bài tập 5**"
      ],
      "metadata": {
        "id": "yzmCJhrlrUuN"
      }
    },
    {
      "cell_type": "markdown",
      "source": [
        "Viết một hàm tính giai thừa của một số nguyên dương."
      ],
      "metadata": {
        "id": "iyexLZrHrZMt"
      }
    },
    {
      "cell_type": "code",
      "source": [],
      "metadata": {
        "id": "WjLDLARDrXpv"
      },
      "execution_count": null,
      "outputs": []
    },
    {
      "cell_type": "markdown",
      "source": [
        "### **Bài tập 6**"
      ],
      "metadata": {
        "id": "36cP3XkFrcR9"
      }
    },
    {
      "cell_type": "markdown",
      "source": [
        "Xây dựng một thư viện toán học đơn giản, bao gồm các hàm như tính tổng, hiệu, tích, thương của hai số."
      ],
      "metadata": {
        "id": "bpblkWv-reYc"
      }
    },
    {
      "cell_type": "code",
      "source": [],
      "metadata": {
        "id": "Tf_lRm8ireCi"
      },
      "execution_count": null,
      "outputs": []
    },
    {
      "cell_type": "markdown",
      "source": [
        "# **IV) Streamlit**"
      ],
      "metadata": {
        "id": "AQ03n8periKx"
      }
    },
    {
      "cell_type": "markdown",
      "source": [
        "### **Bài tập 7**"
      ],
      "metadata": {
        "id": "HdCv50Stro07"
      }
    },
    {
      "cell_type": "markdown",
      "source": [
        "Xây dựng một giao diện Streamlit để nhập thông tin người dùng và hiển thị kết quả."
      ],
      "metadata": {
        "id": "RsQZWO5Trmam"
      }
    },
    {
      "cell_type": "code",
      "source": [],
      "metadata": {
        "id": "tqmSTdq2rl4-"
      },
      "execution_count": null,
      "outputs": []
    },
    {
      "cell_type": "markdown",
      "source": [
        "### **Bài tập 8**"
      ],
      "metadata": {
        "id": "aAo3ERi_rtrW"
      }
    },
    {
      "cell_type": "markdown",
      "source": [
        "Tạo một form Streamlit cho phép người dùng tải lên hình ảnh và hiển thị hình ảnh đó."
      ],
      "metadata": {
        "id": "95n2jyrirv6T"
      }
    },
    {
      "cell_type": "code",
      "source": [],
      "metadata": {
        "id": "HLCsM-iGrvWx"
      },
      "execution_count": null,
      "outputs": []
    },
    {
      "cell_type": "markdown",
      "source": [
        "# **V) Vòng lặp và danh sách**"
      ],
      "metadata": {
        "id": "ebV-gqClryJO"
      }
    },
    {
      "cell_type": "markdown",
      "source": [
        "### **Bài tập 9**"
      ],
      "metadata": {
        "id": "46z9mcVDr4Wf"
      }
    },
    {
      "cell_type": "markdown",
      "source": [
        "Viết một chương trình tìm số lớn nhất, nhỏ nhất trong một danh sách các số nhập từ bàn phím."
      ],
      "metadata": {
        "id": "c5U1gEbEr2hR"
      }
    },
    {
      "cell_type": "code",
      "source": [],
      "metadata": {
        "id": "UJkU043jr2BY"
      },
      "execution_count": null,
      "outputs": []
    },
    {
      "cell_type": "markdown",
      "source": [
        "### **Bài tập 10**"
      ],
      "metadata": {
        "id": "JB6dtW1Br76F"
      }
    },
    {
      "cell_type": "markdown",
      "source": [
        "Viết một chương trình đếm số lần xuất hiện của một ký tự trong một chuỗi."
      ],
      "metadata": {
        "id": "UgW5utF_r-Gi"
      }
    },
    {
      "cell_type": "code",
      "source": [],
      "metadata": {
        "id": "Q5LhLuV5sBMU"
      },
      "execution_count": null,
      "outputs": []
    },
    {
      "cell_type": "markdown",
      "source": [
        "### **Bài tập 11**"
      ],
      "metadata": {
        "id": "hfv33GNEsBpY"
      }
    },
    {
      "cell_type": "markdown",
      "source": [
        "Xây dựng giao diện Streamlit sử dụng vòng lặp để hiển thị danh sách các sản phẩm (danh sách giả lập)."
      ],
      "metadata": {
        "id": "pXWbF3hysE0R"
      }
    },
    {
      "cell_type": "code",
      "source": [],
      "metadata": {
        "id": "g83WMwVpsEDM"
      },
      "execution_count": null,
      "outputs": []
    },
    {
      "cell_type": "markdown",
      "source": [
        "# **VI) Xử lý chuỗi**"
      ],
      "metadata": {
        "id": "2i6D0i8zsHkS"
      }
    },
    {
      "cell_type": "markdown",
      "source": [
        "### **Bài tập 12**"
      ],
      "metadata": {
        "id": "jEzVtvDCsMbz"
      }
    },
    {
      "cell_type": "markdown",
      "source": [
        "Viết một chương trình đảo ngược một chuỗi."
      ],
      "metadata": {
        "id": "8t_zax53sQ6P"
      }
    },
    {
      "cell_type": "code",
      "source": [],
      "metadata": {
        "id": "uyI2yUeTsRtf"
      },
      "execution_count": null,
      "outputs": []
    },
    {
      "cell_type": "markdown",
      "source": [
        "### **Bài tập 13**"
      ],
      "metadata": {
        "id": "76OZk2ugsSIN"
      }
    },
    {
      "cell_type": "markdown",
      "source": [
        "Viết chương trình đếm số từ trong một câu nhập từ người dùng.<br>\n",
        "Bên cạnh đó, viết chương trình trả về từ dài nhất (có nhiều ký tự nhất) trong câu."
      ],
      "metadata": {
        "id": "wBuah3PxsZoO"
      }
    },
    {
      "cell_type": "code",
      "source": [],
      "metadata": {
        "id": "8gb1dU6Yscpg"
      },
      "execution_count": null,
      "outputs": []
    },
    {
      "cell_type": "markdown",
      "source": [
        "# **VII) Collection Data Types (List, Set, Tuple, Dictionary)**"
      ],
      "metadata": {
        "id": "X5DXovPYsc-d"
      }
    },
    {
      "cell_type": "markdown",
      "source": [
        "### **Bài tập 14**"
      ],
      "metadata": {
        "id": "5Ey8C3Mosj0_"
      }
    },
    {
      "cell_type": "markdown",
      "source": [
        "Viết chương trình quản lý danh sách học sinh, cho phép thêm, xóa và hiển thị thông tin học sinh."
      ],
      "metadata": {
        "id": "jLnZbG8NsmFZ"
      }
    },
    {
      "cell_type": "code",
      "source": [],
      "metadata": {
        "id": "PeEWerYRsjTf"
      },
      "execution_count": null,
      "outputs": []
    },
    {
      "cell_type": "markdown",
      "source": [
        "### **Bài tập 15**"
      ],
      "metadata": {
        "id": "ZXltL7_Tso5e"
      }
    },
    {
      "cell_type": "markdown",
      "source": [
        "Tìm tất cả các phần tử chung giữa hai danh sách (sử dụng set)."
      ],
      "metadata": {
        "id": "VIIrWMWysrX-"
      }
    },
    {
      "cell_type": "code",
      "source": [],
      "metadata": {
        "id": "OcSIGTVysuN1"
      },
      "execution_count": null,
      "outputs": []
    },
    {
      "cell_type": "markdown",
      "source": [
        "### **Bài tập 16**"
      ],
      "metadata": {
        "id": "avkqqTSBsuwy"
      }
    },
    {
      "cell_type": "markdown",
      "source": [
        "Tạo một từ điển (dictionary) lưu điểm số sinh viên (tên, điểm) và cho phép người dùng cập nhật thông tin."
      ],
      "metadata": {
        "id": "mtYWwWy0syfT"
      }
    },
    {
      "cell_type": "code",
      "source": [],
      "metadata": {
        "id": "68rPtCvlsxo6"
      },
      "execution_count": null,
      "outputs": []
    },
    {
      "cell_type": "markdown",
      "source": [
        "# **VIII) Thuật toán sắp xếp và tìm kiếm**"
      ],
      "metadata": {
        "id": "fo_8cCa2s1O7"
      }
    },
    {
      "cell_type": "markdown",
      "source": [
        "### **Bài tập 17**"
      ],
      "metadata": {
        "id": "6r3wJ-3ls5x4"
      }
    },
    {
      "cell_type": "markdown",
      "source": [
        "Viết chương trình thực hiện thuật toán sắp xếp (Selection Sort, Bubble Sort)."
      ],
      "metadata": {
        "id": "yQJx527us-aO"
      }
    },
    {
      "cell_type": "code",
      "source": [],
      "metadata": {
        "id": "mXHmWIjytCMt"
      },
      "execution_count": null,
      "outputs": []
    },
    {
      "cell_type": "markdown",
      "source": [
        "### **Bài tập 18**"
      ],
      "metadata": {
        "id": "AfW7wdZ_s_ai"
      }
    },
    {
      "cell_type": "markdown",
      "source": [
        "Tìm kiếm một phần tử trong danh sách bằng thuật toán tìm kiếm (Linear Search, Binary Search)."
      ],
      "metadata": {
        "id": "eAgIUPrUtCpX"
      }
    },
    {
      "cell_type": "code",
      "source": [],
      "metadata": {
        "id": "5g5vm4h3tGz1"
      },
      "execution_count": null,
      "outputs": []
    },
    {
      "cell_type": "markdown",
      "source": [
        "# **IX) OOP cơ bản trong Python**"
      ],
      "metadata": {
        "id": "kNJyJuZCtHNe"
      }
    },
    {
      "cell_type": "markdown",
      "source": [
        "### **Bài tập 19**"
      ],
      "metadata": {
        "id": "U-7NdGhUtNZV"
      }
    },
    {
      "cell_type": "markdown",
      "source": [
        "Tạo lớp Student với các thuộc tính: tên, tuổi, điểm các môn lưu dưới dạng dictionary (toán, văn, anh). Viết phương thức để tính điểm trung bình và in thông tin sinh viên."
      ],
      "metadata": {
        "id": "5WC0xvFbtQkb"
      }
    },
    {
      "cell_type": "code",
      "source": [],
      "metadata": {
        "id": "z7aCblbgtS3T"
      },
      "execution_count": null,
      "outputs": []
    },
    {
      "cell_type": "markdown",
      "source": [
        "### **Bài tập 20**"
      ],
      "metadata": {
        "id": "Q-sXQevatVB6"
      }
    },
    {
      "cell_type": "markdown",
      "source": [
        "Viết chương trình lưu thông tin sinh viên vào một file JSON và đọc lại file này."
      ],
      "metadata": {
        "id": "nXsarQkEtXXP"
      }
    },
    {
      "cell_type": "code",
      "source": [],
      "metadata": {
        "id": "X8snbhVztZlj"
      },
      "execution_count": null,
      "outputs": []
    }
  ]
}