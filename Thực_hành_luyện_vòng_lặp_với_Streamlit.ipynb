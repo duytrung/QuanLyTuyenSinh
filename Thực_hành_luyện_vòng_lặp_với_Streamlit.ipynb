{
  "nbformat": 4,
  "nbformat_minor": 0,
  "metadata": {
    "colab": {
      "provenance": [],
      "include_colab_link": true
    },
    "kernelspec": {
      "name": "python3",
      "display_name": "Python 3"
    },
    "language_info": {
      "name": "python"
    }
  },
  "cells": [
    {
      "cell_type": "markdown",
      "metadata": {
        "id": "view-in-github",
        "colab_type": "text"
      },
      "source": [
        "<a href=\"https://colab.research.google.com/github/duytrung/QuanLyTuyenSinh/blob/main/Th%E1%BB%B1c_h%C3%A0nh_luy%E1%BB%87n_v%C3%B2ng_l%E1%BA%B7p_v%E1%BB%9Bi_Streamlit.ipynb\" target=\"_parent\"><img src=\"https://colab.research.google.com/assets/colab-badge.svg\" alt=\"Open In Colab\"/></a>"
      ]
    },
    {
      "cell_type": "markdown",
      "source": [
        "# **Bài tập về nhà**"
      ],
      "metadata": {
        "id": "EP7KSj7ubBVP"
      }
    },
    {
      "cell_type": "markdown",
      "source": [
        "### **1) Viết ứng dụng tìm số lớn thứ hai trong danh sách số nguyên**"
      ],
      "metadata": {
        "id": "Q5mAKEcUak4p"
      }
    },
    {
      "cell_type": "markdown",
      "source": [
        "Yêu cầu:\n",
        "\n",
        "> 1) Tạo một ứng dụng sử dụng input() để nhập vào một danh sách các số nguyên, được phân tách bởi dấu phẩy (,).<br>\n",
        "> 2) Hiển thị kết quả là số lớn thứ hai trong danh sách.\n",
        "\n",
        "Hướng dẫn:\n",
        "\n",
        "- Nhập danh sách số nguyên từ người dùng.\n",
        "- Chuyển danh sách từ dạng chuỗi thành danh sách các số nguyên.\n",
        "- Xác định số lớn nhất và tìm số lớn thứ hai bằng cách duyệt qua danh sách.\n",
        "- Hiển thị kết quả trên giao diện Streamlit."
      ],
      "metadata": {
        "id": "ai-A-nkbaloN"
      }
    },
    {
      "cell_type": "code",
      "execution_count": null,
      "metadata": {
        "id": "XKjEJc5PaQ6v"
      },
      "outputs": [],
      "source": []
    },
    {
      "cell_type": "markdown",
      "source": [
        "### **2) Viết ứng dụng phân loại số chẵn và số lẻ trong danh sách số nguyên**"
      ],
      "metadata": {
        "id": "mZhr218kbHnL"
      }
    },
    {
      "cell_type": "markdown",
      "source": [
        "\n",
        "Yêu cầu:\n",
        "\n",
        "> 1) Tạo ứng dụng sử dụng input() để nhập vào một danh sách các số nguyên, được phân tách bởi dấu phẩy (,).<br>\n",
        "> 2) Phân loại các số trong danh sách thành số chẵn và số lẻ.<br>\n",
        "> 3) Hiển thị kết quả phân loại trên giao diện Streamlit.\n",
        "\n",
        "Hướng dẫn:\n",
        "\n",
        "- Nhập danh sách số nguyên từ người dùng.\n",
        "- Chuyển danh sách từ dạng chuỗi thành danh sách các số nguyên.\n",
        "- Duyệt qua danh sách để kiểm tra từng số:\n",
        "- Nếu số chia hết cho 2 là số chẵn, ngược lại là số lẻ.\n",
        "- Hiển thị kết quả cho danh sách số chẵn và số lẻ."
      ],
      "metadata": {
        "id": "mTwmaOJ1bRDr"
      }
    },
    {
      "cell_type": "code",
      "source": [],
      "metadata": {
        "id": "q0M7vGD1bhix"
      },
      "execution_count": null,
      "outputs": []
    },
    {
      "cell_type": "markdown",
      "source": [
        "### **3) Viết ứng dụng lọc các số lớn hơn hoặc bằng một ngưỡng cho trước**"
      ],
      "metadata": {
        "id": "sSVwBIccbn1m"
      }
    },
    {
      "cell_type": "markdown",
      "source": [
        "Yêu cầu:\n",
        "\n",
        "> 1) Tạo ứng dụng sử dụng input() để nhập vào một danh sách các số nguyên, được phân tách bởi dấu phẩy (,).<br>\n",
        "> 2) Nhập một ngưỡng giá trị từ người dùng.<br>\n",
        "> 3) Hiển thị danh sách các số lớn hơn hoặc bằng ngưỡng đã cho.\n",
        "\n",
        "Hướng dẫn:\n",
        "\n",
        "- Nhập danh sách số nguyên từ người dùng.\n",
        "- Nhập giá trị ngưỡng (threshold) qua input số nguyên.\n",
        "- Chuyển danh sách từ dạng chuỗi thành danh sách các số nguyên.\n",
        "- Duyệt qua danh sách và lọc ra các số lớn hơn hoặc bằng giá trị ngưỡng.\n",
        "- Hiển thị kết quả trên giao diện Streamlit."
      ],
      "metadata": {
        "id": "9lQZvp1abyda"
      }
    },
    {
      "cell_type": "code",
      "source": [],
      "metadata": {
        "id": "CxoAJrTZcE8p"
      },
      "execution_count": null,
      "outputs": []
    },
    {
      "cell_type": "markdown",
      "source": [
        "### **4) Viết ứng dụng sắp xếp danh sách số nguyên theo thứ tự tăng dần**"
      ],
      "metadata": {
        "id": "q0wHUihLcG-e"
      }
    },
    {
      "cell_type": "markdown",
      "source": [
        "Yêu cầu:\n",
        "\n",
        "> 1) Tạo ứng dụng sử dụng input() để nhập vào một danh sách các số nguyên, được phân tách bởi dấu phẩy (,). <br>\n",
        "> 2) Áp dụng thuật toán Selection Sort để sắp xếp danh sách theo thứ tự tăng dần. <br>\n",
        "> 3) Hiển thị danh sách đã sắp xếp trên giao diện Streamlit.\n",
        "\n",
        "Hướng dẫn:\n",
        "\n",
        "- Nhập danh sách số nguyên từ người dùng.\n",
        "- Chuyển danh sách từ dạng chuỗi thành danh sách các số nguyên.\n",
        "- Thực hiện thuật toán Selection Sort để sắp xếp danh sách.\n",
        "- Hiển thị danh sách đã sắp xếp."
      ],
      "metadata": {
        "id": "kTQhL1xbcTnL"
      }
    },
    {
      "cell_type": "code",
      "source": [],
      "metadata": {
        "id": "4r5x9uXAcfzp"
      },
      "execution_count": null,
      "outputs": []
    },
    {
      "cell_type": "markdown",
      "source": [
        "### **5) Viết ứng dụng tìm kiếm phần tử trong danh sách số nguyên**"
      ],
      "metadata": {
        "id": "EQcrV8ZRcjy0"
      }
    },
    {
      "cell_type": "markdown",
      "source": [
        "Yêu cầu:\n",
        "\n",
        "> 1) Tạo ứng dụng sử dụng input() để nhập vào một danh sách các số nguyên, được phân tách bởi dấu phẩy (,).<br>\n",
        "> 2) Nhập một số nguyên cần tìm từ người dùng.<br>\n",
        "> 3) Áp dụng thuật toán tìm kiếm tuyến tính (Linear Search) để tìm vị trí của số cần tìm trong danh sách.<br>\n",
        "> 4) Hiển thị các vị trí xuất hiện của số cần tìm hoặc thông báo nếu không tìm thấy số đó.<br>\n",
        "\n",
        "Hướng dẫn:\n",
        "\n",
        "- Nhập danh sách số nguyên từ người dùng.\n",
        "- Chuyển danh sách từ dạng chuỗi thành danh sách các số nguyên.\n",
        "- Duyệt qua danh sách bằng vòng lặp để kiểm tra từng phần tử có khớp với số cần tìm hay không.\n",
        "- Nếu tìm thấy, lưu vị trí của các phần tử khớp vào một danh sách.\n",
        "- Hiển thị kết quả tìm kiếm trên giao diện Streamlit."
      ],
      "metadata": {
        "id": "T2dL6Mw8c4YW"
      }
    },
    {
      "cell_type": "code",
      "source": [],
      "metadata": {
        "id": "8OYj0HrwdJrQ"
      },
      "execution_count": null,
      "outputs": []
    }
  ]
}